{
 "cells": [
  {
   "cell_type": "markdown",
   "id": "7fe3fe14",
   "metadata": {},
   "source": [
    "# Exercises\n",
    "\n",
    "The end result of this exercise should be a file named prepare.py that defines the requested functions.\n",
    "\n",
    "In this exercise we will be defining some functions to prepare textual data. These functions should apply equally well to both the codeup blog articles and the news articles that were previously acquired.\n"
   ]
  },
  {
   "cell_type": "code",
   "execution_count": 3,
   "id": "8ffcdaa6",
   "metadata": {},
   "outputs": [],
   "source": [
    "import unicodedata\n",
    "import re\n",
    "import json\n",
    "\n",
    "import nltk\n",
    "from nltk.tokenize.toktok import ToktokTokenizer\n",
    "from nltk.corpus import stopwords\n",
    "\n",
    "import pandas as pd\n",
    "\n",
    "import acquire\n",
    "import prepare"
   ]
  },
  {
   "cell_type": "code",
   "execution_count": 4,
   "id": "f4e01e07",
   "metadata": {},
   "outputs": [],
   "source": [
    "codeup_df = prepare.create_prepared_blog_df()\n"
   ]
  },
  {
   "cell_type": "code",
   "execution_count": 5,
   "id": "9d414516",
   "metadata": {},
   "outputs": [
    {
     "data": {
      "text/html": [
       "<div>\n",
       "<style scoped>\n",
       "    .dataframe tbody tr th:only-of-type {\n",
       "        vertical-align: middle;\n",
       "    }\n",
       "\n",
       "    .dataframe tbody tr th {\n",
       "        vertical-align: top;\n",
       "    }\n",
       "\n",
       "    .dataframe thead th {\n",
       "        text-align: right;\n",
       "    }\n",
       "</style>\n",
       "<table border=\"1\" class=\"dataframe\">\n",
       "  <thead>\n",
       "    <tr style=\"text-align: right;\">\n",
       "      <th></th>\n",
       "      <th>url</th>\n",
       "      <th>title</th>\n",
       "      <th>date_published</th>\n",
       "      <th>original</th>\n",
       "      <th>clean</th>\n",
       "      <th>stemmed</th>\n",
       "      <th>lemmatized</th>\n",
       "    </tr>\n",
       "  </thead>\n",
       "  <tbody>\n",
       "    <tr>\n",
       "      <th>0</th>\n",
       "      <td>https://codeup.com/featured/what-jobs-can-you-...</td>\n",
       "      <td>What Jobs Can You Get After a Coding Bootcamp?...</td>\n",
       "      <td>Jul 14, 2022</td>\n",
       "      <td>Have you been considering a career in Cloud Ad...</td>\n",
       "      <td>considering career cloud administration idea j...</td>\n",
       "      <td>consid career cloud administr idea job titl po...</td>\n",
       "      <td>considering career cloud administration idea j...</td>\n",
       "    </tr>\n",
       "    <tr>\n",
       "      <th>1</th>\n",
       "      <td>https://codeup.com/data-science/jobs-after-a-c...</td>\n",
       "      <td>What Jobs Can You Get After a Coding Bootcamp?...</td>\n",
       "      <td>Jul 7, 2022</td>\n",
       "      <td>If you are interested in embarking on a career...</td>\n",
       "      <td>interested embarking career tech youre probabl...</td>\n",
       "      <td>interest embark career tech probabl wonder new...</td>\n",
       "      <td>interested embarking career tech youre probabl...</td>\n",
       "    </tr>\n",
       "    <tr>\n",
       "      <th>2</th>\n",
       "      <td>https://codeup.com/workshops/san-antonio/in-pe...</td>\n",
       "      <td>In-Person Workshop: Learn to Code – JavaScript...</td>\n",
       "      <td>Jul 6, 2022</td>\n",
       "      <td>Join us for our live in-person JavaScript cras...</td>\n",
       "      <td>join us live inperson javascript crash course ...</td>\n",
       "      <td>join us live inperson javascript crash cours d...</td>\n",
       "      <td>join u live inperson javascript crash course d...</td>\n",
       "    </tr>\n",
       "    <tr>\n",
       "      <th>3</th>\n",
       "      <td>https://codeup.com/workshops/in-person-worksho...</td>\n",
       "      <td>In-Person Workshop: Learn to Code – Python on ...</td>\n",
       "      <td>Jun 20, 2022</td>\n",
       "      <td>According to LinkedIn, the “#1 Most Promising ...</td>\n",
       "      <td>according linkedin 1 promising job data scienc...</td>\n",
       "      <td>accord linkedin 1 promis job data scienc one m...</td>\n",
       "      <td>according linkedin 1 promising job data scienc...</td>\n",
       "    </tr>\n",
       "    <tr>\n",
       "      <th>4</th>\n",
       "      <td>https://codeup.com/workshops/dallas/free-javas...</td>\n",
       "      <td>Free JavaScript Workshop at Codeup Dallas on 6...</td>\n",
       "      <td>Jun 19, 2022</td>\n",
       "      <td>Event Info: \\nLocation – Codeup Dallas\\nTime –...</td>\n",
       "      <td>event info location codeup dallas time 6 pm co...</td>\n",
       "      <td>event info locat codeup dalla time 6 pm come l...</td>\n",
       "      <td>event info location codeup dallas time 6 pm co...</td>\n",
       "    </tr>\n",
       "  </tbody>\n",
       "</table>\n",
       "</div>"
      ],
      "text/plain": [
       "                                                 url  \\\n",
       "0  https://codeup.com/featured/what-jobs-can-you-...   \n",
       "1  https://codeup.com/data-science/jobs-after-a-c...   \n",
       "2  https://codeup.com/workshops/san-antonio/in-pe...   \n",
       "3  https://codeup.com/workshops/in-person-worksho...   \n",
       "4  https://codeup.com/workshops/dallas/free-javas...   \n",
       "\n",
       "                                               title date_published  \\\n",
       "0  What Jobs Can You Get After a Coding Bootcamp?...   Jul 14, 2022   \n",
       "1  What Jobs Can You Get After a Coding Bootcamp?...    Jul 7, 2022   \n",
       "2  In-Person Workshop: Learn to Code – JavaScript...    Jul 6, 2022   \n",
       "3  In-Person Workshop: Learn to Code – Python on ...   Jun 20, 2022   \n",
       "4  Free JavaScript Workshop at Codeup Dallas on 6...   Jun 19, 2022   \n",
       "\n",
       "                                            original  \\\n",
       "0  Have you been considering a career in Cloud Ad...   \n",
       "1  If you are interested in embarking on a career...   \n",
       "2  Join us for our live in-person JavaScript cras...   \n",
       "3  According to LinkedIn, the “#1 Most Promising ...   \n",
       "4  Event Info: \\nLocation – Codeup Dallas\\nTime –...   \n",
       "\n",
       "                                               clean  \\\n",
       "0  considering career cloud administration idea j...   \n",
       "1  interested embarking career tech youre probabl...   \n",
       "2  join us live inperson javascript crash course ...   \n",
       "3  according linkedin 1 promising job data scienc...   \n",
       "4  event info location codeup dallas time 6 pm co...   \n",
       "\n",
       "                                             stemmed  \\\n",
       "0  consid career cloud administr idea job titl po...   \n",
       "1  interest embark career tech probabl wonder new...   \n",
       "2  join us live inperson javascript crash cours d...   \n",
       "3  accord linkedin 1 promis job data scienc one m...   \n",
       "4  event info locat codeup dalla time 6 pm come l...   \n",
       "\n",
       "                                          lemmatized  \n",
       "0  considering career cloud administration idea j...  \n",
       "1  interested embarking career tech youre probabl...  \n",
       "2  join u live inperson javascript crash course d...  \n",
       "3  according linkedin 1 promising job data scienc...  \n",
       "4  event info location codeup dallas time 6 pm co...  "
      ]
     },
     "execution_count": 5,
     "metadata": {},
     "output_type": "execute_result"
    }
   ],
   "source": [
    "codeup_df.head()\n"
   ]
  },
  {
   "cell_type": "code",
   "execution_count": 6,
   "id": "2d8057e3",
   "metadata": {},
   "outputs": [
    {
     "name": "stdout",
     "output_type": "stream",
     "text": [
      "Importing from csv\n"
     ]
    }
   ],
   "source": [
    "news_df = prepare.create_prepared_news_df()\n"
   ]
  },
  {
   "cell_type": "code",
   "execution_count": 7,
   "id": "b2d35ff5",
   "metadata": {},
   "outputs": [
    {
     "data": {
      "text/plain": [
       "'businessman anand mahindra took twitter praise pv sindhu singapore open sharing tweet doordarshan sport old image sindhu mahindra wrote thats facial expression expression soul fighter corenever getting demoralised slump teaching u rise'"
      ]
     },
     "execution_count": 7,
     "metadata": {},
     "output_type": "execute_result"
    }
   ],
   "source": [
    "news_df.lemmatized[3]\n"
   ]
  },
  {
   "cell_type": "code",
   "execution_count": 8,
   "id": "c74e63fb",
   "metadata": {},
   "outputs": [],
   "source": [
    "df = acquire.get_blog_articles(True)\n"
   ]
  },
  {
   "cell_type": "code",
   "execution_count": 9,
   "id": "d219e281",
   "metadata": {},
   "outputs": [],
   "source": [
    "df = pd.DataFrame(df)\n"
   ]
  },
  {
   "cell_type": "code",
   "execution_count": 10,
   "id": "c3e7a659",
   "metadata": {},
   "outputs": [],
   "source": [
    "original = df.original[0]\n"
   ]
  },
  {
   "cell_type": "code",
   "execution_count": 11,
   "id": "09462ae7",
   "metadata": {},
   "outputs": [],
   "source": [
    "article = original.lower()\n"
   ]
  },
  {
   "cell_type": "markdown",
   "id": "b27b14e9",
   "metadata": {},
   "source": [
    "### 1. Define a function named basic_clean. It should take in a string and apply some basic text cleaning to it:\n",
    "- Lowercase everything\n",
    "- Normalize unicode characters\n",
    "- Replace anything that is not a letter, number, whitespace or a single quote.\n",
    "\n"
   ]
  },
  {
   "cell_type": "code",
   "execution_count": 27,
   "id": "666c3edf",
   "metadata": {},
   "outputs": [],
   "source": [
    "def basic_clean(article:str):\n",
    "    \"\"\" Performs basic cleaning of text string, article, by switching all letters to lowecase, normalizing unicode characters, \n",
    "    and replacing everything that is not a letter, number, whitespace, or single quote.\"\"\"\n",
    "    # Convert text to lowercase\n",
    "    article = article.lower()\n",
    "    \n",
    "    # Remove accented characteries. Normalize removes inconsistencies in unicode character encoding.\n",
    "    # Encode converts string to ASCII and decode returns the bytes into string.\n",
    "    article = unicodedata.normalize('NFKD', article)\\\n",
    "    .encode('ascii', 'ignore')\\\n",
    "    .decode('utf-8', 'ignore')\n",
    "\n",
    "    # remove anything that is not a through z, a number, a single quote, or whitespace\n",
    "    article = re.sub(r\"[^a-z0-9'\\s]\", '', article)\n",
    "    \n",
    "    return article"
   ]
  },
  {
   "cell_type": "code",
   "execution_count": 28,
   "id": "124dca9a",
   "metadata": {},
   "outputs": [
    {
     "name": "stdout",
     "output_type": "stream",
     "text": [
      "have you been considering a career in cloud administration but have no idea what your job title or potential salary could be continue reading below to find out\n",
      "in this miniseries we will take each of our programs here at codeup data science web development and cloud administration and outline respectively potential job titles as well as entrylevel salaries lets discuss cloud administration\n",
      "program overview\n",
      "at codeup we offer a 15week cloud administration program which was derived from our previous two programs systems engineering and cyber cloud we combined the best of both and blended handson practical knowledge with skilled instructors to create the cloud administration program\n",
      "upon completing this program youll have the opportunity to take on two exams for certifications amazon web services aws cloud practitioner and aws solutions architect associate \n",
      "potential jobs\n",
      "according to a cloud guru with an aws certification youll be equipped with the knowledge and experience to secure a job as the following\n",
      "1 cloud architect\n",
      "as a cloud architect you will double as an it specialist responsible for your organizations cloud infrastructure this includes system monitoring computing strategy planning building and deployment an entrylevel cloud architect can make an estimated 93892 annually according to glassdoor \n",
      "2 cloud developer\n",
      "a cloud developers main duties align with a software developers the differentiating factor is a cloud developer operates virtually with cloud computing technology this may include the design analysis and maintenance of a companys cloud infrastructure an entrylevel cloud developer can make an estimated 89652 annually according to glassdoor \n",
      "3 cloud systems administrator\n",
      "a cloud systems administrator can be expected to provide insight on cloud systems specifically working with it to provide assistance and resolve operational issues an entrylevel cloud systems administrator can make an estimated 64805 annually according to glassdoor\n",
      "honorable mention\n",
      "a few additional roles to consider with aws certification include \n",
      "\n",
      "cloud devops engineer estimated entrylevel salary 88563\n",
      "cloud security engineer estimated entrylevel salary 85111\n",
      "cloud data architect estimated entrylevel salary 91598\n",
      "cloud consultant estimated entrylevel salary 72474\n",
      "\n",
      "interested in the other parts of this miniseries check them out below\n",
      "\n",
      "part 1 data science\n",
      "part 3 web development coming soon \n",
      "\n",
      "disclaimer all information presented in this article is by no means guaranteed by completing a codeup program salaries and duties vary based on factors such as company location and experience these salaries are estimates based on san antonio tx data and these duties are general and may not be exact for every position\n"
     ]
    }
   ],
   "source": [
    "print(prepare.basic_clean(article))\n"
   ]
  },
  {
   "cell_type": "markdown",
   "id": "4c28df90",
   "metadata": {},
   "source": [
    "### 2. Define a function named tokenize. It should take in a string and tokenize all the words in the string.\n",
    "\n"
   ]
  },
  {
   "cell_type": "code",
   "execution_count": 29,
   "id": "798eaf79",
   "metadata": {},
   "outputs": [],
   "source": [
    "def tokenize(article:str):\n",
    "    \"\"\" Takes in a string, article, and tokenizes all words \"\"\"\n",
    "    \n",
    "    tokenizer = nltk.tokenize.ToktokTokenizer()\n",
    "\n",
    "    return tokenizer.tokenize(article, return_str=True)"
   ]
  },
  {
   "cell_type": "code",
   "execution_count": 30,
   "id": "4f33623e",
   "metadata": {},
   "outputs": [
    {
     "name": "stdout",
     "output_type": "stream",
     "text": [
      "Have you been considering a career in Cloud Administration , but have no idea what your job title or potential salary could be ? Continue reading below to find out ! \n",
      "In this mini-series , we will take each of our programs here at Codeup : Data Science , Web Development , and Cloud Administration , and outline respectively potential job titles , as well as entry-level salaries.* Let ’ s discuss Cloud Administration.\n",
      "Program Overview\n",
      "At Codeup , we offer a 15-week Cloud Administration program , which was derived from our previous two programs : Systems Engineering and Cyber Cloud. We combined the best of both and blended hands-on practical knowledge with skilled instructors to create the Cloud Administration program.\n",
      "Upon completing this program , you ’ ll have the opportunity to take on two exams for certifications : Amazon Web Services ( AWS ) Cloud Practitioner and AWS Solutions Architect Associate. \n",
      "Potential Jobs\n",
      "According to A Cloud Guru , with an AWS Certification you ’ ll be equipped with the knowledge and experience to secure a job as the following : \n",
      "1. Cloud Architect\n",
      "As a Cloud Architect , you will double as an IT specialist responsible for your organization ’ s cloud infrastructure. This includes system monitoring , computing strategy , planning , building and deployment. An entry-level Cloud Architect can make an estimated $ 93,892 annually according to Glassdoor. \n",
      "2. Cloud Developer\n",
      "A Cloud Developer ’ s main duties align with a software developer ’ s. The differentiating factor is a Cloud Developer operates virtually with cloud computing technology. This may include the design , analysis and maintenance of a company ’ s cloud infrastructure. An entry-level Cloud Developer can make an estimated $ 89,652 annually according to Glassdoor. \n",
      "3. Cloud Systems Administrator\n",
      "A Cloud Systems Administrator can be expected to provide insight on cloud systems , specifically working with IT to provide assistance and resolve operational issues. An entry-level Cloud Systems Administrator can make an estimated $ 64,805 annually according to Glassdoor.\n",
      "Honorable Mention\n",
      "A few additional roles to consider with AWS Certification include : \n",
      "\n",
      "Cloud DevOps Engineer- Estimated Entry-Level Salary $ 88,563\n",
      "Cloud Security Engineer- Estimated Entry-Level Salary $ 85,111\n",
      "Cloud Data Architect- Estimated Entry-Level Salary $ 91,598\n",
      "Cloud Consultant- Estimated Entry-Level Salary $ 72,474\n",
      "\n",
      "Interested in the other parts of this mini-series ? Check them out below ! \n",
      "\n",
      "Part 1 : Data Science\n",
      "Part 3 : Web Development ( Coming Soon ! ) \n",
      "\n",
      "*Disclaimer : All information presented in this article is by no means guaranteed by completing a Codeup program. Salaries and duties vary based on factors such as company , location , and experience. These salaries are estimates based on San Antonio , TX data , and these duties are general and may not be exact for every position .\n"
     ]
    }
   ],
   "source": [
    "tokenizer = nltk.tokenize.ToktokTokenizer()\n",
    "\n",
    "print(tokenizer.tokenize(original, return_str=True))"
   ]
  },
  {
   "cell_type": "markdown",
   "id": "74dea04e",
   "metadata": {},
   "source": [
    "### 3. Define a function named stem. It should accept some text and return the text after applying stemming to all the words."
   ]
  },
  {
   "cell_type": "code",
   "execution_count": 31,
   "id": "c3f13a6a",
   "metadata": {},
   "outputs": [],
   "source": [
    "def stem(article: str):\n",
    "    \"\"\" Takes in a string, article, and returns text after applying stemming using Porter method \"\"\"\n",
    "    \n",
    "    ps = nltk.porter.PorterStemmer()\n",
    "\n",
    "    stems = [ps.stem(word) for word in article.split()]\n",
    "    article_stemmed = ' '.join(stems)\n",
    "    \n",
    "    return article_stemmed"
   ]
  },
  {
   "cell_type": "code",
   "execution_count": 14,
   "id": "afd24663",
   "metadata": {},
   "outputs": [],
   "source": [
    "stems = prepare.stem(original)\n"
   ]
  },
  {
   "cell_type": "code",
   "execution_count": 15,
   "id": "96f2386d",
   "metadata": {},
   "outputs": [
    {
     "data": {
      "text/plain": [
       "'have you been consid a career in cloud administration, but have no idea what your job titl or potenti salari could be? continu read below to find out! in thi mini-series, we will take each of our program here at codeup: data science, web development, and cloud administration, and outlin respect potenti job titles, as well as entry-level salaries.* let’ discuss cloud administration. program overview at codeup, we offer a 15-week cloud administr program, which wa deriv from our previou two programs: system engin and cyber cloud. we combin the best of both and blend hands-on practic knowledg with skill instructor to creat the cloud administr program. upon complet thi program, you’ll have the opportun to take on two exam for certifications: amazon web servic (aws) cloud practition and aw solut architect associate. potenti job accord to a cloud guru, with an aw certif you’ll be equip with the knowledg and experi to secur a job as the following: 1. cloud architect as a cloud architect, you will doubl as an it specialist respons for your organization’ cloud infrastructure. thi includ system monitoring, comput strategy, planning, build and deployment. an entry-level cloud architect can make an estim $93,892 annual accord to glassdoor. 2. cloud develop a cloud developer’ main duti align with a softwar developer’s. the differenti factor is a cloud develop oper virtual with cloud comput technology. thi may includ the design, analysi and mainten of a company’ cloud infrastructure. an entry-level cloud develop can make an estim $89,652 annual accord to glassdoor. 3. cloud system administr a cloud system administr can be expect to provid insight on cloud systems, specif work with it to provid assist and resolv oper issues. an entry-level cloud system administr can make an estim $64,805 annual accord to glassdoor. honor mention a few addit role to consid with aw certif include: cloud devop engineer- estim entry-level salari $88,563 cloud secur engineer- estim entry-level salari $85,111 cloud data architect- estim entry-level salari $91,598 cloud consultant- estim entry-level salari $72,474 interest in the other part of thi mini-series? check them out below! part 1: data scienc part 3: web develop (come soon!) *disclaimer: all inform present in thi articl is by no mean guarante by complet a codeup program. salari and duti vari base on factor such as company, location, and experience. these salari are estim base on san antonio, tx data, and these duti are gener and may not be exact for everi position.'"
      ]
     },
     "execution_count": 15,
     "metadata": {},
     "output_type": "execute_result"
    }
   ],
   "source": [
    "stems"
   ]
  },
  {
   "cell_type": "markdown",
   "id": "ec29e75c",
   "metadata": {},
   "source": [
    "### 4. Define a function named lemmatize. It should accept some text and return the text after applying lemmatization to each word.\n",
    "\n"
   ]
  },
  {
   "cell_type": "code",
   "execution_count": 32,
   "id": "3adf0536",
   "metadata": {},
   "outputs": [],
   "source": [
    "def lemmatize(article: str):\n",
    "    \"\"\" Accepts string as argument, article, and returns text after applying lemmatization to each word \"\"\"\n",
    "    \n",
    "    wnl = nltk.stem.WordNetLemmatizer()\n",
    "        \n",
    "    lemmas = [wnl.lemmatize(word) for word in article.split()]\n",
    "    article_lemmatized = ' '.join(lemmas)\n",
    "\n",
    "    return article_lemmatized"
   ]
  },
  {
   "cell_type": "code",
   "execution_count": 16,
   "id": "1bd5c251",
   "metadata": {},
   "outputs": [
    {
     "data": {
      "text/plain": [
       "'Have you been considering a career in Cloud Administration, but have no idea what your job title or potential salary could be? Continue reading below to find out! In this mini-series, we will take each of our program here at Codeup: Data Science, Web Development, and Cloud Administration, and outline respectively potential job titles, a well a entry-level salaries.* Let’s discus Cloud Administration. Program Overview At Codeup, we offer a 15-week Cloud Administration program, which wa derived from our previous two programs: Systems Engineering and Cyber Cloud. We combined the best of both and blended hands-on practical knowledge with skilled instructor to create the Cloud Administration program. Upon completing this program, you’ll have the opportunity to take on two exam for certifications: Amazon Web Services (AWS) Cloud Practitioner and AWS Solutions Architect Associate. Potential Jobs According to A Cloud Guru, with an AWS Certification you’ll be equipped with the knowledge and experience to secure a job a the following: 1. Cloud Architect As a Cloud Architect, you will double a an IT specialist responsible for your organization’s cloud infrastructure. This includes system monitoring, computing strategy, planning, building and deployment. An entry-level Cloud Architect can make an estimated $93,892 annually according to Glassdoor. 2. Cloud Developer A Cloud Developer’s main duty align with a software developer’s. The differentiating factor is a Cloud Developer operates virtually with cloud computing technology. This may include the design, analysis and maintenance of a company’s cloud infrastructure. An entry-level Cloud Developer can make an estimated $89,652 annually according to Glassdoor. 3. Cloud Systems Administrator A Cloud Systems Administrator can be expected to provide insight on cloud systems, specifically working with IT to provide assistance and resolve operational issues. An entry-level Cloud Systems Administrator can make an estimated $64,805 annually according to Glassdoor. Honorable Mention A few additional role to consider with AWS Certification include: Cloud DevOps Engineer- Estimated Entry-Level Salary $88,563 Cloud Security Engineer- Estimated Entry-Level Salary $85,111 Cloud Data Architect- Estimated Entry-Level Salary $91,598 Cloud Consultant- Estimated Entry-Level Salary $72,474 Interested in the other part of this mini-series? Check them out below! Part 1: Data Science Part 3: Web Development (Coming Soon!) *Disclaimer: All information presented in this article is by no mean guaranteed by completing a Codeup program. Salaries and duty vary based on factor such a company, location, and experience. These salary are estimate based on San Antonio, TX data, and these duty are general and may not be exact for every position.'"
      ]
     },
     "execution_count": 16,
     "metadata": {},
     "output_type": "execute_result"
    }
   ],
   "source": [
    "prepare.lemmatize(original)\n"
   ]
  },
  {
   "cell_type": "code",
   "execution_count": 17,
   "id": "e359408b",
   "metadata": {},
   "outputs": [
    {
     "data": {
      "text/plain": [
       "'Have you been considering a career in Cloud Administration, but have no idea what your job title or potential salary could be? Continue reading below to find out!\\nIn this mini-series, we will take each of our programs here at Codeup: Data Science, Web Development, and Cloud Administration, and outline respectively potential job titles, as well as entry-level salaries.*\\xa0Let’s discuss Cloud Administration.\\nProgram Overview\\nAt Codeup, we offer a 15-week Cloud Administration program, which was derived from our previous two programs: Systems Engineering and Cyber Cloud. We combined the best of both and blended hands-on practical knowledge with skilled instructors to create the Cloud Administration program.\\nUpon completing this program, you’ll have the opportunity to take on two exams for certifications: Amazon Web Services (AWS) Cloud Practitioner and AWS Solutions Architect Associate.\\xa0\\nPotential Jobs\\nAccording to A Cloud Guru, with an AWS Certification you’ll be equipped with the knowledge and experience to secure a job as the following:\\n1. Cloud Architect\\nAs a Cloud Architect, you will double as an IT specialist responsible for your organization’s cloud infrastructure. This includes system monitoring, computing strategy, planning, building and deployment. An entry-level Cloud Architect can make an estimated $93,892 annually according to Glassdoor.\\xa0\\n2. Cloud Developer\\nA Cloud Developer’s main duties align with a software developer’s. The differentiating factor is a Cloud Developer operates virtually with cloud computing technology. This may include the design, analysis and maintenance of a company’s cloud infrastructure. An entry-level Cloud Developer can make an estimated $89,652 annually according to Glassdoor.\\xa0\\n3. Cloud Systems Administrator\\nA Cloud Systems Administrator can be expected to provide insight on cloud systems, specifically working with IT to provide assistance and resolve operational issues. An entry-level Cloud Systems Administrator can make an estimated $64,805 annually according to Glassdoor.\\nHonorable Mention\\nA few additional roles to consider with AWS Certification include:\\xa0\\n\\nCloud DevOps Engineer- Estimated Entry-Level Salary $88,563\\nCloud Security Engineer- Estimated Entry-Level Salary $85,111\\nCloud Data Architect- Estimated Entry-Level Salary $91,598\\nCloud Consultant- Estimated Entry-Level Salary $72,474\\n\\nInterested in the other parts of this mini-series? Check them out below!\\n\\nPart 1: Data Science\\nPart 3: Web Development (Coming Soon!)\\xa0\\n\\n*Disclaimer: All information presented in this article is by no means guaranteed by completing a Codeup program. Salaries and duties vary based on factors such as company, location, and experience. These salaries are estimates based on San Antonio, TX data, and these duties are general and may not be exact for every position.'"
      ]
     },
     "execution_count": 17,
     "metadata": {},
     "output_type": "execute_result"
    }
   ],
   "source": [
    "original\n"
   ]
  },
  {
   "cell_type": "markdown",
   "id": "7d00f46c",
   "metadata": {},
   "source": [
    "### 5. Define a function named remove_stopwords. It should accept some text and return the text after removing all the stopwords.\n",
    "    \n",
    "    This function should define two optional parameters, extra_words and exclude_words. These parameters should define any additional stop words to include, and any words that we don't want to remove.\n",
    "\n"
   ]
  },
  {
   "cell_type": "code",
   "execution_count": 33,
   "id": "b5500cf6",
   "metadata": {},
   "outputs": [],
   "source": [
    "def remove_stopwords(article: str, extra_words: list, exclude_words: list):\n",
    "    \"\"\" Accepts string (article) as argument and returns text after removing all the stopwords.\n",
    "    extra_words: any additional stop words to include (these words will be removed from the article)\n",
    "    exclude_words: any words we do not want to remove. These words are removed from the stopwords list and will remain in article \"\"\"\n",
    "    \n",
    "    stopword_list = stopwords.words('english')\n",
    "\n",
    "    [stopword_list.append(word_to_add) for word_to_add in extra_words if word_to_add not in stopword_list]\n",
    "    [stopword_list.remove(to_remove) for to_remove in exclude_words if to_remove in stopword_list]\n",
    "\n",
    "    words = article.split()\n",
    "    filtered_words = [w for w in words if w not in stopword_list]\n",
    "\n",
    "    # print('Removed {} stopwords'.format(len(words) - len(filtered_words)))\n",
    "\n",
    "    article_without_stopwords = ' '.join(filtered_words)\n",
    "    \n",
    "    return article_without_stopwords"
   ]
  },
  {
   "cell_type": "code",
   "execution_count": 18,
   "id": "bf80e186",
   "metadata": {},
   "outputs": [
    {
     "data": {
      "text/plain": [
       "'Have considering career Cloud Administration, idea job title potential salary could be? Continue reading find out! In mini-series, take programs Codeup: Data Science, Web Development, Cloud Administration, outline respectively potential job titles, well entry-level salaries.* Let’s discuss Cloud Administration. Program Overview At Codeup, offer 15-week Cloud Administration program, derived previous two programs: Systems Engineering Cyber Cloud. We combined best blended hands-on practical knowledge skilled instructors create Cloud Administration program. Upon completing program, you’ll opportunity take two exams for certifications: Amazon Web Services (AWS) Cloud Practitioner AWS Solutions Architect Associate. Potential Jobs According A Cloud Guru, AWS Certification you’ll equipped knowledge experience secure job following: 1. Cloud Architect As Cloud Architect, double IT specialist responsible for organization’s cloud infrastructure. This includes system monitoring, computing strategy, planning, building deployment. An entry-level Cloud Architect make estimated $93,892 annually according Glassdoor. 2. Cloud Developer A Cloud Developer’s main duties align software developer’s. The differentiating factor Cloud Developer operates virtually cloud computing technology. This may include design, analysis maintenance company’s cloud infrastructure. An entry-level Cloud Developer make estimated $89,652 annually according Glassdoor. 3. Cloud Systems Administrator A Cloud Systems Administrator expected provide insight cloud systems, specifically working IT provide assistance resolve operational issues. An entry-level Cloud Systems Administrator make estimated $64,805 annually according Glassdoor. Honorable Mention A additional roles consider AWS Certification include: Cloud DevOps Engineer- Estimated Entry-Level Salary $88,563 Cloud Security Engineer- Estimated Entry-Level Salary $85,111 Cloud Data Architect- Estimated Entry-Level Salary $91,598 Cloud Consultant- Estimated Entry-Level Salary $72,474 Interested parts mini-series? Check below! Part 1: Data Science Part 3: Web Development (Coming Soon!) *Disclaimer: All information presented article means guaranteed completing Codeup program. Salaries duties vary based factors company, location, experience. These salaries estimates based San Antonio, TX data, duties general may exact for every position.'"
      ]
     },
     "execution_count": 18,
     "metadata": {},
     "output_type": "execute_result"
    }
   ],
   "source": [
    "prepare.remove_stopwords(original, extra_words = ['Taryn', 'Month','chat'], exclude_words= ['for','We'])\n"
   ]
  },
  {
   "cell_type": "markdown",
   "id": "c624f83a",
   "metadata": {},
   "source": [
    "\n",
    "### 6. Use your data from the acquire to produce a dataframe of the news articles. Name the dataframe news_df.\n"
   ]
  },
  {
   "cell_type": "code",
   "execution_count": 20,
   "id": "fab1cade",
   "metadata": {},
   "outputs": [
    {
     "name": "stdout",
     "output_type": "stream",
     "text": [
      "Importing from csv\n"
     ]
    }
   ],
   "source": [
    "news_df = acquire.get_news_articles()\n"
   ]
  },
  {
   "cell_type": "code",
   "execution_count": 21,
   "id": "6ef7aed6",
   "metadata": {},
   "outputs": [],
   "source": [
    "news_df = pd.DataFrame(news_df)\n"
   ]
  },
  {
   "cell_type": "code",
   "execution_count": 22,
   "id": "da9e893c",
   "metadata": {},
   "outputs": [
    {
     "data": {
      "text/html": [
       "<div>\n",
       "<style scoped>\n",
       "    .dataframe tbody tr th:only-of-type {\n",
       "        vertical-align: middle;\n",
       "    }\n",
       "\n",
       "    .dataframe tbody tr th {\n",
       "        vertical-align: top;\n",
       "    }\n",
       "\n",
       "    .dataframe thead th {\n",
       "        text-align: right;\n",
       "    }\n",
       "</style>\n",
       "<table border=\"1\" class=\"dataframe\">\n",
       "  <thead>\n",
       "    <tr style=\"text-align: right;\">\n",
       "      <th></th>\n",
       "      <th>title</th>\n",
       "      <th>author</th>\n",
       "      <th>datetime</th>\n",
       "      <th>category</th>\n",
       "      <th>original</th>\n",
       "    </tr>\n",
       "  </thead>\n",
       "  <tbody>\n",
       "    <tr>\n",
       "      <th>0</th>\n",
       "      <td>Rupee closes at an all-time low of 79.98 again...</td>\n",
       "      <td>Ridham Gambhir</td>\n",
       "      <td>2022-07-18T11:00:17.000Z</td>\n",
       "      <td>business</td>\n",
       "      <td>The rupee on Monday hit a fresh record low as ...</td>\n",
       "    </tr>\n",
       "    <tr>\n",
       "      <th>1</th>\n",
       "      <td>Rupee hits record low of 79.97 against US dollar</td>\n",
       "      <td>Ridham Gambhir</td>\n",
       "      <td>2022-07-18T10:00:15.000Z</td>\n",
       "      <td>business</td>\n",
       "      <td>The rupee hit a record low of 79.97 against th...</td>\n",
       "    </tr>\n",
       "    <tr>\n",
       "      <th>2</th>\n",
       "      <td>BCCI had ₹40 cr in bank when I joined &amp; ₹47,68...</td>\n",
       "      <td>Ridham Gambhir</td>\n",
       "      <td>2022-07-17T06:35:36.000Z</td>\n",
       "      <td>business</td>\n",
       "      <td>In an Instagram post, Lalit Modi asserted that...</td>\n",
       "    </tr>\n",
       "    <tr>\n",
       "      <th>3</th>\n",
       "      <td>A fighter to the core: Mahindra praises PV Sin...</td>\n",
       "      <td>Ridham Gambhir</td>\n",
       "      <td>2022-07-17T08:17:31.000Z</td>\n",
       "      <td>business</td>\n",
       "      <td>Businessman Anand Mahindra took to Twitter to ...</td>\n",
       "    </tr>\n",
       "    <tr>\n",
       "      <th>4</th>\n",
       "      <td>RBI is of the view that cryptocurrencies shoul...</td>\n",
       "      <td>Hiral Goyal</td>\n",
       "      <td>2022-07-18T07:55:13.000Z</td>\n",
       "      <td>business</td>\n",
       "      <td>The Reserve Bank of India (RBI) has recommende...</td>\n",
       "    </tr>\n",
       "    <tr>\n",
       "      <th>...</th>\n",
       "      <td>...</td>\n",
       "      <td>...</td>\n",
       "      <td>...</td>\n",
       "      <td>...</td>\n",
       "      <td>...</td>\n",
       "    </tr>\n",
       "    <tr>\n",
       "      <th>95</th>\n",
       "      <td>Grace &amp; style of Dhanush is something to behol...</td>\n",
       "      <td>Amartya Sharma</td>\n",
       "      <td>2022-07-18T10:27:56.000Z</td>\n",
       "      <td>entertainment</td>\n",
       "      <td>Regé-Jean Page, speaking about Dhanush in 'The...</td>\n",
       "    </tr>\n",
       "    <tr>\n",
       "      <th>96</th>\n",
       "      <td>Want to show people I'm more than simple, inno...</td>\n",
       "      <td>Amartya Sharma</td>\n",
       "      <td>2022-07-18T11:08:29.000Z</td>\n",
       "      <td>entertainment</td>\n",
       "      <td>Actress Janhvi Kapoor has said 'Good Luck Jerr...</td>\n",
       "    </tr>\n",
       "    <tr>\n",
       "      <th>97</th>\n",
       "      <td>Love you SRK for rehearsing with me, not throw...</td>\n",
       "      <td>Ria Kapoor</td>\n",
       "      <td>2022-07-18T11:20:55.000Z</td>\n",
       "      <td>entertainment</td>\n",
       "      <td>Actress Kashmera Shah took to Instagram to sha...</td>\n",
       "    </tr>\n",
       "    <tr>\n",
       "      <th>98</th>\n",
       "      <td>Didn't realise we were making memories: Juhi o...</td>\n",
       "      <td>Kriti Kambiri</td>\n",
       "      <td>2022-07-18T14:25:06.000Z</td>\n",
       "      <td>entertainment</td>\n",
       "      <td>Actress Juhi Chawla shared a video montage of ...</td>\n",
       "    </tr>\n",
       "    <tr>\n",
       "      <th>99</th>\n",
       "      <td>Shooting of Shanaya's 'Bedhadak' to commence n...</td>\n",
       "      <td>Kriti Kambiri</td>\n",
       "      <td>2022-07-18T15:08:19.000Z</td>\n",
       "      <td>entertainment</td>\n",
       "      <td>Filmmaker Karan Johar took to Instagram to ann...</td>\n",
       "    </tr>\n",
       "  </tbody>\n",
       "</table>\n",
       "<p>100 rows × 5 columns</p>\n",
       "</div>"
      ],
      "text/plain": [
       "                                                title          author  \\\n",
       "0   Rupee closes at an all-time low of 79.98 again...  Ridham Gambhir   \n",
       "1    Rupee hits record low of 79.97 against US dollar  Ridham Gambhir   \n",
       "2   BCCI had ₹40 cr in bank when I joined & ₹47,68...  Ridham Gambhir   \n",
       "3   A fighter to the core: Mahindra praises PV Sin...  Ridham Gambhir   \n",
       "4   RBI is of the view that cryptocurrencies shoul...     Hiral Goyal   \n",
       "..                                                ...             ...   \n",
       "95  Grace & style of Dhanush is something to behol...  Amartya Sharma   \n",
       "96  Want to show people I'm more than simple, inno...  Amartya Sharma   \n",
       "97  Love you SRK for rehearsing with me, not throw...      Ria Kapoor   \n",
       "98  Didn't realise we were making memories: Juhi o...   Kriti Kambiri   \n",
       "99  Shooting of Shanaya's 'Bedhadak' to commence n...   Kriti Kambiri   \n",
       "\n",
       "                    datetime       category  \\\n",
       "0   2022-07-18T11:00:17.000Z       business   \n",
       "1   2022-07-18T10:00:15.000Z       business   \n",
       "2   2022-07-17T06:35:36.000Z       business   \n",
       "3   2022-07-17T08:17:31.000Z       business   \n",
       "4   2022-07-18T07:55:13.000Z       business   \n",
       "..                       ...            ...   \n",
       "95  2022-07-18T10:27:56.000Z  entertainment   \n",
       "96  2022-07-18T11:08:29.000Z  entertainment   \n",
       "97  2022-07-18T11:20:55.000Z  entertainment   \n",
       "98  2022-07-18T14:25:06.000Z  entertainment   \n",
       "99  2022-07-18T15:08:19.000Z  entertainment   \n",
       "\n",
       "                                             original  \n",
       "0   The rupee on Monday hit a fresh record low as ...  \n",
       "1   The rupee hit a record low of 79.97 against th...  \n",
       "2   In an Instagram post, Lalit Modi asserted that...  \n",
       "3   Businessman Anand Mahindra took to Twitter to ...  \n",
       "4   The Reserve Bank of India (RBI) has recommende...  \n",
       "..                                                ...  \n",
       "95  Regé-Jean Page, speaking about Dhanush in 'The...  \n",
       "96  Actress Janhvi Kapoor has said 'Good Luck Jerr...  \n",
       "97  Actress Kashmera Shah took to Instagram to sha...  \n",
       "98  Actress Juhi Chawla shared a video montage of ...  \n",
       "99  Filmmaker Karan Johar took to Instagram to ann...  \n",
       "\n",
       "[100 rows x 5 columns]"
      ]
     },
     "execution_count": 22,
     "metadata": {},
     "output_type": "execute_result"
    }
   ],
   "source": [
    "news_df\n"
   ]
  },
  {
   "cell_type": "markdown",
   "id": "cb22091d",
   "metadata": {},
   "source": [
    "\n",
    "### 7. Make another dataframe for the Codeup blog posts. Name the dataframe codeup_df.\n"
   ]
  },
  {
   "cell_type": "code",
   "execution_count": null,
   "id": "eebe34d0",
   "metadata": {},
   "outputs": [],
   "source": []
  },
  {
   "cell_type": "markdown",
   "id": "7b26e9d0",
   "metadata": {},
   "source": [
    "### 8. For each dataframe, produce the following columns:\n",
    "- title to hold the title\n",
    "- original to hold the original article/post content\n",
    "- clean to hold the normalized and tokenized original with the stopwords removed.\n",
    "- stemmed to hold the stemmed version of the cleaned data.\n",
    "- lemmatized to hold the lemmatized version of the cleaned data.\n",
    "\n"
   ]
  },
  {
   "cell_type": "code",
   "execution_count": 49,
   "id": "a4364255",
   "metadata": {},
   "outputs": [],
   "source": [
    "def prepare_df(df, original, extra_words = [], exclude_words = []):\n",
    "    \"\"\"Adds columns for cleaned, stemmed, and lemmatized data in dataframe \"\"\"\n",
    "    # Create cleaned data column of content\n",
    "    df['clean'] = df.original.apply(basic_clean).apply(tokenize).apply(remove_stopwords,\n",
    "                                                       extra_words = extra_words,\n",
    "                                                       exclude_words = exclude_words)\n",
    "    \n",
    "    # Create stemmed column with stemmed version of cleaned data\n",
    "    df['stemmed'] = df.clean.apply(tokenize).apply(stem).apply(remove_stopwords,\n",
    "                                                       extra_words = extra_words,\n",
    "                                                       exclude_words = exclude_words)\n",
    "\n",
    "    # Create lemmatized column with lemmatized version of cleaned data\n",
    "    df['lemmatized'] = df.clean.apply(tokenize).apply(lemmatize).apply(remove_stopwords,\n",
    "                                                       extra_words = extra_words,\n",
    "                                                       exclude_words = exclude_words)\n",
    "    \n",
    "    return df[['title', original, 'clean', 'stemmed', 'lemmatized']]"
   ]
  },
  {
   "cell_type": "code",
   "execution_count": 50,
   "id": "ed42e30a",
   "metadata": {},
   "outputs": [
    {
     "data": {
      "text/html": [
       "<div>\n",
       "<style scoped>\n",
       "    .dataframe tbody tr th:only-of-type {\n",
       "        vertical-align: middle;\n",
       "    }\n",
       "\n",
       "    .dataframe tbody tr th {\n",
       "        vertical-align: top;\n",
       "    }\n",
       "\n",
       "    .dataframe thead th {\n",
       "        text-align: right;\n",
       "    }\n",
       "</style>\n",
       "<table border=\"1\" class=\"dataframe\">\n",
       "  <thead>\n",
       "    <tr style=\"text-align: right;\">\n",
       "      <th></th>\n",
       "      <th>title</th>\n",
       "      <th>original</th>\n",
       "      <th>clean</th>\n",
       "      <th>stemmed</th>\n",
       "      <th>lemmatized</th>\n",
       "    </tr>\n",
       "  </thead>\n",
       "  <tbody>\n",
       "    <tr>\n",
       "      <th>0</th>\n",
       "      <td>What Jobs Can You Get After a Coding Bootcamp?...</td>\n",
       "      <td>Have you been considering a career in Cloud Ad...</td>\n",
       "      <td>considering career cloud administration no ide...</td>\n",
       "      <td>consid career cloud administr no idea job titl...</td>\n",
       "      <td>considering career cloud administration no ide...</td>\n",
       "    </tr>\n",
       "    <tr>\n",
       "      <th>1</th>\n",
       "      <td>What Jobs Can You Get After a Coding Bootcamp?...</td>\n",
       "      <td>If you are interested in embarking on a career...</td>\n",
       "      <td>interested embarking career tech youre probabl...</td>\n",
       "      <td>interest embark career tech probabl wonder new...</td>\n",
       "      <td>interested embarking career tech youre probabl...</td>\n",
       "    </tr>\n",
       "    <tr>\n",
       "      <th>2</th>\n",
       "      <td>In-Person Workshop: Learn to Code – JavaScript...</td>\n",
       "      <td>Join us for our live in-person JavaScript cras...</td>\n",
       "      <td>join us live inperson javascript crash course ...</td>\n",
       "      <td>join us live inperson javascript crash cours d...</td>\n",
       "      <td>join u live inperson javascript crash course d...</td>\n",
       "    </tr>\n",
       "    <tr>\n",
       "      <th>3</th>\n",
       "      <td>In-Person Workshop: Learn to Code – Python on ...</td>\n",
       "      <td>According to LinkedIn, the “#1 Most Promising ...</td>\n",
       "      <td>according linkedin 1 promising job data scienc...</td>\n",
       "      <td>accord linkedin 1 promis job data scienc one m...</td>\n",
       "      <td>according linkedin 1 promising job data scienc...</td>\n",
       "    </tr>\n",
       "    <tr>\n",
       "      <th>4</th>\n",
       "      <td>Free JavaScript Workshop at Codeup Dallas on 6...</td>\n",
       "      <td>Event Info: \\nLocation – Codeup Dallas\\nTime –...</td>\n",
       "      <td>event info location codeup dallas time 6 pm co...</td>\n",
       "      <td>event info locat codeup dalla time 6 pm come l...</td>\n",
       "      <td>event info location codeup dallas time 6 pm co...</td>\n",
       "    </tr>\n",
       "    <tr>\n",
       "      <th>5</th>\n",
       "      <td>Is Our Cloud Administration Program Right for ...</td>\n",
       "      <td>Changing careers can be scary. The first thing...</td>\n",
       "      <td>changing careers scary first thing may asking ...</td>\n",
       "      <td>chang career scari first thing may ask begin l...</td>\n",
       "      <td>changing career scary first thing may asking b...</td>\n",
       "    </tr>\n",
       "    <tr>\n",
       "      <th>6</th>\n",
       "      <td>PRIDE in Tech Panel\\nJun 5, 2022 | Dallas, San...</td>\n",
       "      <td>In celebration of PRIDE month, join our Codeup...</td>\n",
       "      <td>celebration pride month join codeup alumni lgb...</td>\n",
       "      <td>celebr pride month join codeup alumni lgbtqia ...</td>\n",
       "      <td>celebration pride month join codeup alumnus lg...</td>\n",
       "    </tr>\n",
       "    <tr>\n",
       "      <th>7</th>\n",
       "      <td>Inclusion at Codeup During Pride Month (and Al...</td>\n",
       "      <td>Happy Pride Month! Pride Month is a dedicated ...</td>\n",
       "      <td>happy pride month pride month dedicated time c...</td>\n",
       "      <td>happi pride month pride month dedic time celeb...</td>\n",
       "      <td>happy pride month pride month dedicated time c...</td>\n",
       "    </tr>\n",
       "    <tr>\n",
       "      <th>8</th>\n",
       "      <td>Mental Health First Aid Training\\nMay 31, 2022...</td>\n",
       "      <td>As a student of Codeup, going through a massiv...</td>\n",
       "      <td>student codeup going massive career transition...</td>\n",
       "      <td>student codeup go massiv career transit mental...</td>\n",
       "      <td>student codeup going massive career transition...</td>\n",
       "    </tr>\n",
       "    <tr>\n",
       "      <th>9</th>\n",
       "      <td>Codeup Dallas: How to Succeed at a Coding Boot...</td>\n",
       "      <td>This event is the perfect opportunity for peop...</td>\n",
       "      <td>event perfect opportunity people wondering exp...</td>\n",
       "      <td>event perfect opportun peopl wonder expect cod...</td>\n",
       "      <td>event perfect opportunity people wondering exp...</td>\n",
       "    </tr>\n",
       "    <tr>\n",
       "      <th>10</th>\n",
       "      <td>5 Reasons To Attend Our New Cloud Administrati...</td>\n",
       "      <td>Come Work In The Cloud\\nWhen your Monday rolls...</td>\n",
       "      <td>come work cloud monday rolls around start get ...</td>\n",
       "      <td>come work cloud monday roll around start get s...</td>\n",
       "      <td>come work cloud monday roll around start get s...</td>\n",
       "    </tr>\n",
       "    <tr>\n",
       "      <th>11</th>\n",
       "      <td>Learn to Code: Python on 5/21\\nMay 16, 2022 | ...</td>\n",
       "      <td>According to LinkedIn, the “#1 Most Promising ...</td>\n",
       "      <td>according linkedin 1 promising job data scienc...</td>\n",
       "      <td>accord linkedin 1 promis job data scienc one m...</td>\n",
       "      <td>according linkedin 1 promising job data scienc...</td>\n",
       "    </tr>\n",
       "    <tr>\n",
       "      <th>12</th>\n",
       "      <td>Codeup Dallas Joins Career Day\\nMay 16, 2022 |...</td>\n",
       "      <td>Last week our Codeup Dallas team participated ...</td>\n",
       "      <td>last week codeup dallas team participated care...</td>\n",
       "      <td>last week codeup dalla team particip career da...</td>\n",
       "      <td>last week codeup dallas team participated care...</td>\n",
       "    </tr>\n",
       "    <tr>\n",
       "      <th>13</th>\n",
       "      <td>Project Quest Info Session: IT Jumpstart on Ma...</td>\n",
       "      <td>Join our grant partner Project Quest as they d...</td>\n",
       "      <td>join grant partner project quest discuss lates...</td>\n",
       "      <td>join grant partner project quest discuss lates...</td>\n",
       "      <td>join grant partner project quest discus latest...</td>\n",
       "    </tr>\n",
       "    <tr>\n",
       "      <th>14</th>\n",
       "      <td>From Bootcamp to Bootcamp | A Military Appreci...</td>\n",
       "      <td>In honor of Military Appreciation Month, join ...</td>\n",
       "      <td>honor military appreciation month join us disc...</td>\n",
       "      <td>honor militari appreci month join us discuss c...</td>\n",
       "      <td>honor military appreciation month join u discu...</td>\n",
       "    </tr>\n",
       "    <tr>\n",
       "      <th>15</th>\n",
       "      <td>Our Acquisition of the Rackspace Cloud Academy...</td>\n",
       "      <td>Just about a year ago on April 16th, 2021 we a...</td>\n",
       "      <td>year ago april 16th 2021 announced acquisition...</td>\n",
       "      <td>year ago april 16th 2021 announc acquisit rack...</td>\n",
       "      <td>year ago april 16th 2021 announced acquisition...</td>\n",
       "    </tr>\n",
       "    <tr>\n",
       "      <th>16</th>\n",
       "      <td>Learn to Code: HTML &amp; CSS on 4/30\\nApr 1, 2022...</td>\n",
       "      <td>HTML &amp; CSS are the design building blocks of a...</td>\n",
       "      <td>html css design building blocks websites inter...</td>\n",
       "      <td>html css design build block websit interact da...</td>\n",
       "      <td>html cs design building block website interact...</td>\n",
       "    </tr>\n",
       "    <tr>\n",
       "      <th>17</th>\n",
       "      <td>Learn to Code: Python Workshop on 4/23\\nMar 31...</td>\n",
       "      <td>According to LinkedIn, the “#1 Most Promising ...</td>\n",
       "      <td>according linkedin 1 promising job data scienc...</td>\n",
       "      <td>accord linkedin 1 promis job data scienc codeu...</td>\n",
       "      <td>according linkedin 1 promising job data scienc...</td>\n",
       "    </tr>\n",
       "  </tbody>\n",
       "</table>\n",
       "</div>"
      ],
      "text/plain": [
       "                                                title  \\\n",
       "0   What Jobs Can You Get After a Coding Bootcamp?...   \n",
       "1   What Jobs Can You Get After a Coding Bootcamp?...   \n",
       "2   In-Person Workshop: Learn to Code – JavaScript...   \n",
       "3   In-Person Workshop: Learn to Code – Python on ...   \n",
       "4   Free JavaScript Workshop at Codeup Dallas on 6...   \n",
       "5   Is Our Cloud Administration Program Right for ...   \n",
       "6   PRIDE in Tech Panel\\nJun 5, 2022 | Dallas, San...   \n",
       "7   Inclusion at Codeup During Pride Month (and Al...   \n",
       "8   Mental Health First Aid Training\\nMay 31, 2022...   \n",
       "9   Codeup Dallas: How to Succeed at a Coding Boot...   \n",
       "10  5 Reasons To Attend Our New Cloud Administrati...   \n",
       "11  Learn to Code: Python on 5/21\\nMay 16, 2022 | ...   \n",
       "12  Codeup Dallas Joins Career Day\\nMay 16, 2022 |...   \n",
       "13  Project Quest Info Session: IT Jumpstart on Ma...   \n",
       "14  From Bootcamp to Bootcamp | A Military Appreci...   \n",
       "15  Our Acquisition of the Rackspace Cloud Academy...   \n",
       "16  Learn to Code: HTML & CSS on 4/30\\nApr 1, 2022...   \n",
       "17  Learn to Code: Python Workshop on 4/23\\nMar 31...   \n",
       "\n",
       "                                             original  \\\n",
       "0   Have you been considering a career in Cloud Ad...   \n",
       "1   If you are interested in embarking on a career...   \n",
       "2   Join us for our live in-person JavaScript cras...   \n",
       "3   According to LinkedIn, the “#1 Most Promising ...   \n",
       "4   Event Info: \\nLocation – Codeup Dallas\\nTime –...   \n",
       "5   Changing careers can be scary. The first thing...   \n",
       "6   In celebration of PRIDE month, join our Codeup...   \n",
       "7   Happy Pride Month! Pride Month is a dedicated ...   \n",
       "8   As a student of Codeup, going through a massiv...   \n",
       "9   This event is the perfect opportunity for peop...   \n",
       "10  Come Work In The Cloud\\nWhen your Monday rolls...   \n",
       "11  According to LinkedIn, the “#1 Most Promising ...   \n",
       "12  Last week our Codeup Dallas team participated ...   \n",
       "13  Join our grant partner Project Quest as they d...   \n",
       "14  In honor of Military Appreciation Month, join ...   \n",
       "15  Just about a year ago on April 16th, 2021 we a...   \n",
       "16  HTML & CSS are the design building blocks of a...   \n",
       "17  According to LinkedIn, the “#1 Most Promising ...   \n",
       "\n",
       "                                                clean  \\\n",
       "0   considering career cloud administration no ide...   \n",
       "1   interested embarking career tech youre probabl...   \n",
       "2   join us live inperson javascript crash course ...   \n",
       "3   according linkedin 1 promising job data scienc...   \n",
       "4   event info location codeup dallas time 6 pm co...   \n",
       "5   changing careers scary first thing may asking ...   \n",
       "6   celebration pride month join codeup alumni lgb...   \n",
       "7   happy pride month pride month dedicated time c...   \n",
       "8   student codeup going massive career transition...   \n",
       "9   event perfect opportunity people wondering exp...   \n",
       "10  come work cloud monday rolls around start get ...   \n",
       "11  according linkedin 1 promising job data scienc...   \n",
       "12  last week codeup dallas team participated care...   \n",
       "13  join grant partner project quest discuss lates...   \n",
       "14  honor military appreciation month join us disc...   \n",
       "15  year ago april 16th 2021 announced acquisition...   \n",
       "16  html css design building blocks websites inter...   \n",
       "17  according linkedin 1 promising job data scienc...   \n",
       "\n",
       "                                              stemmed  \\\n",
       "0   consid career cloud administr no idea job titl...   \n",
       "1   interest embark career tech probabl wonder new...   \n",
       "2   join us live inperson javascript crash cours d...   \n",
       "3   accord linkedin 1 promis job data scienc one m...   \n",
       "4   event info locat codeup dalla time 6 pm come l...   \n",
       "5   chang career scari first thing may ask begin l...   \n",
       "6   celebr pride month join codeup alumni lgbtqia ...   \n",
       "7   happi pride month pride month dedic time celeb...   \n",
       "8   student codeup go massiv career transit mental...   \n",
       "9   event perfect opportun peopl wonder expect cod...   \n",
       "10  come work cloud monday roll around start get s...   \n",
       "11  accord linkedin 1 promis job data scienc one m...   \n",
       "12  last week codeup dalla team particip career da...   \n",
       "13  join grant partner project quest discuss lates...   \n",
       "14  honor militari appreci month join us discuss c...   \n",
       "15  year ago april 16th 2021 announc acquisit rack...   \n",
       "16  html css design build block websit interact da...   \n",
       "17  accord linkedin 1 promis job data scienc codeu...   \n",
       "\n",
       "                                           lemmatized  \n",
       "0   considering career cloud administration no ide...  \n",
       "1   interested embarking career tech youre probabl...  \n",
       "2   join u live inperson javascript crash course d...  \n",
       "3   according linkedin 1 promising job data scienc...  \n",
       "4   event info location codeup dallas time 6 pm co...  \n",
       "5   changing career scary first thing may asking b...  \n",
       "6   celebration pride month join codeup alumnus lg...  \n",
       "7   happy pride month pride month dedicated time c...  \n",
       "8   student codeup going massive career transition...  \n",
       "9   event perfect opportunity people wondering exp...  \n",
       "10  come work cloud monday roll around start get s...  \n",
       "11  according linkedin 1 promising job data scienc...  \n",
       "12  last week codeup dallas team participated care...  \n",
       "13  join grant partner project quest discus latest...  \n",
       "14  honor military appreciation month join u discu...  \n",
       "15  year ago april 16th 2021 announced acquisition...  \n",
       "16  html cs design building block website interact...  \n",
       "17  according linkedin 1 promising job data scienc...  "
      ]
     },
     "execution_count": 50,
     "metadata": {},
     "output_type": "execute_result"
    }
   ],
   "source": [
    "prepare_df(df, 'original', extra_words = ['ha'], exclude_words = ['no'])"
   ]
  },
  {
   "cell_type": "markdown",
   "id": "3b34f99a",
   "metadata": {},
   "source": [
    "### 9. Ask yourself:\n",
    "- If your corpus is 493KB, would you prefer to use stemmed or lemmatized text?\n",
    "- If your corpus is 25MB, would you prefer to use stemmed or lemmatized text?\n",
    "- If your corpus is 200TB of text and you're charged by the megabyte for your hosted computational resources, would you prefer to use stemmed or lemmatized text?"
   ]
  },
  {
   "cell_type": "code",
   "execution_count": null,
   "id": "e3420019",
   "metadata": {},
   "outputs": [],
   "source": []
  }
 ],
 "metadata": {
  "kernelspec": {
   "display_name": "Python 3 (ipykernel)",
   "language": "python",
   "name": "python3"
  },
  "language_info": {
   "codemirror_mode": {
    "name": "ipython",
    "version": 3
   },
   "file_extension": ".py",
   "mimetype": "text/x-python",
   "name": "python",
   "nbconvert_exporter": "python",
   "pygments_lexer": "ipython3",
   "version": "3.9.7"
  }
 },
 "nbformat": 4,
 "nbformat_minor": 5
}
