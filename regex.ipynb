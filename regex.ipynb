{
 "cells": [
  {
   "cell_type": "code",
   "execution_count": 1,
   "id": "254a2373",
   "metadata": {},
   "outputs": [
    {
     "name": "stdout",
     "output_type": "stream",
     "text": [
      "Initalized!\n"
     ]
    }
   ],
   "source": [
    "import pandas as pd\n",
    "import re\n",
    "print('Initalized!')"
   ]
  },
  {
   "cell_type": "markdown",
   "id": "69a20165",
   "metadata": {},
   "source": [
    "### Q1).Write a function named is_vowel. It should accept a string as input and use a regular expression to determine if the passed string is a vowel. While not explicity mentioned in the lesson, you can treat the result of re.search as a boolean value that indicates whether or not the regular expression matches the given string."
   ]
  },
  {
   "cell_type": "code",
   "execution_count": 2,
   "id": "316b1f98",
   "metadata": {},
   "outputs": [],
   "source": [
    "def is_vowel(word):\n",
    "    vowel = r'^[AEIOUaeiou]{1}$'\n",
    "    return bool(re.search(vowel,word))"
   ]
  },
  {
   "cell_type": "code",
   "execution_count": 3,
   "id": "305b7451",
   "metadata": {},
   "outputs": [
    {
     "data": {
      "text/plain": [
       "False"
      ]
     },
     "execution_count": 3,
     "metadata": {},
     "output_type": "execute_result"
    }
   ],
   "source": [
    "is_vowel('ve')\n"
   ]
  },
  {
   "cell_type": "code",
   "execution_count": 4,
   "id": "979edd90",
   "metadata": {},
   "outputs": [
    {
     "data": {
      "text/plain": [
       "True"
      ]
     },
     "execution_count": 4,
     "metadata": {},
     "output_type": "execute_result"
    }
   ],
   "source": [
    "is_vowel('a')"
   ]
  },
  {
   "cell_type": "markdown",
   "id": "cca56223",
   "metadata": {},
   "source": [
    "### Q2).Write a function named is_valid_username that accepts a string as input. A valid username starts with a lowercase letter, and only consists of lowercase letters, numbers, or the _ character. It should also be no longer than 32 characters. The function should return either True or False depending on whether the passed string is a valid username."
   ]
  },
  {
   "cell_type": "code",
   "execution_count": 5,
   "id": "05ed434b",
   "metadata": {},
   "outputs": [],
   "source": [
    "def is_valid_username(username):\n",
    "    if len(username) <= 32:\n",
    "        regexp = r'^[a-z].+?[a-z0-9_]$'\n",
    "        subject = username\n",
    "        return bool(re.search(regexp, subject))\n",
    "    else:\n",
    "        return False\n"
   ]
  },
  {
   "cell_type": "code",
   "execution_count": 6,
   "id": "e69ccee1",
   "metadata": {},
   "outputs": [
    {
     "data": {
      "text/plain": [
       "False"
      ]
     },
     "execution_count": 6,
     "metadata": {},
     "output_type": "execute_result"
    }
   ],
   "source": [
    "is_valid_username('aaaaaaaaaaaaaaaaaaaaaaaaaaaaaaaaa')"
   ]
  },
  {
   "cell_type": "code",
   "execution_count": 7,
   "id": "97af717f",
   "metadata": {},
   "outputs": [
    {
     "data": {
      "text/plain": [
       "True"
      ]
     },
     "execution_count": 7,
     "metadata": {},
     "output_type": "execute_result"
    }
   ],
   "source": [
    "is_valid_username('codeup')"
   ]
  },
  {
   "cell_type": "code",
   "execution_count": 8,
   "id": "08f63419",
   "metadata": {},
   "outputs": [
    {
     "data": {
      "text/plain": [
       "False"
      ]
     },
     "execution_count": 8,
     "metadata": {},
     "output_type": "execute_result"
    }
   ],
   "source": [
    "is_valid_username('Codeup')"
   ]
  },
  {
   "cell_type": "code",
   "execution_count": 9,
   "id": "124c678b",
   "metadata": {},
   "outputs": [
    {
     "data": {
      "text/plain": [
       "True"
      ]
     },
     "execution_count": 9,
     "metadata": {},
     "output_type": "execute_result"
    }
   ],
   "source": [
    "is_valid_username('codeup123')"
   ]
  },
  {
   "cell_type": "code",
   "execution_count": 10,
   "id": "df0ab7e0",
   "metadata": {},
   "outputs": [
    {
     "data": {
      "text/plain": [
       "False"
      ]
     },
     "execution_count": 10,
     "metadata": {},
     "output_type": "execute_result"
    }
   ],
   "source": [
    "is_valid_username('1codeup')"
   ]
  },
  {
   "cell_type": "markdown",
   "id": "7300824c",
   "metadata": {},
   "source": [
    "### Q3).Write a regular expression to capture phone numbers. It should match all of the following:\n",
    "\n"
   ]
  },
  {
   "cell_type": "raw",
   "id": "f8d940e5",
   "metadata": {},
   "source": [
    "(210) 867 5309\n",
    "+1 210.867.5309\n",
    "867-5309\n",
    "210-867-5309\n"
   ]
  },
  {
   "cell_type": "code",
   "execution_count": 11,
   "id": "e7b54c4c",
   "metadata": {},
   "outputs": [],
   "source": [
    "def get_phone_number(num):\n",
    "    regexp = r'\\+?\\d?\\s?\\(?\\d*\\)?\\-?\\.?\\s?\\d+\\-*\\.?\\s?\\d+'\n",
    "    return re.search(regexp,num)"
   ]
  },
  {
   "cell_type": "code",
   "execution_count": 12,
   "id": "71c9aeb1",
   "metadata": {},
   "outputs": [
    {
     "name": "stdout",
     "output_type": "stream",
     "text": [
      "<re.Match object; span=(0, 8), match='867-5309'>\n",
      "<re.Match object; span=(0, 15), match='+1 210.867.5309'>\n",
      "<re.Match object; span=(0, 8), match='867-5309'>\n",
      "<re.Match object; span=(0, 12), match='210-867-5309'>\n"
     ]
    }
   ],
   "source": [
    "print(get_phone_number('867-5309'))\n",
    "print(get_phone_number('+1 210.867.5309'))\n",
    "print(get_phone_number('867-5309'))\n",
    "print(get_phone_number('210-867-5309'))"
   ]
  },
  {
   "cell_type": "markdown",
   "id": "27c2207d",
   "metadata": {},
   "source": [
    "### Q4).Use regular expressions to convert the dates below to the standardized year-month-day format."
   ]
  },
  {
   "cell_type": "raw",
   "id": "a25d12b2",
   "metadata": {},
   "source": [
    "02/04/19\n",
    "02/05/19\n",
    "02/06/19\n",
    "02/07/19\n",
    "02/08/19\n",
    "02/09/19\n",
    "02/10/19\n"
   ]
  },
  {
   "cell_type": "code",
   "execution_count": 13,
   "id": "7cf634e2",
   "metadata": {},
   "outputs": [],
   "source": [
    "dates = pd.Series(['02/04/19','02/05/19','02/06/19','02/07/19','02/08/19','02/09/19','02/10/19'])\n"
   ]
  },
  {
   "cell_type": "code",
   "execution_count": 14,
   "id": "34beacd7",
   "metadata": {},
   "outputs": [],
   "source": [
    "def date_converter(series):\n",
    "    return series.str.replace(r'(\\d+)/(\\d+)/(\\d+)', r'\\3/\\1/\\2')"
   ]
  },
  {
   "cell_type": "code",
   "execution_count": 15,
   "id": "4a69dc1c",
   "metadata": {},
   "outputs": [
    {
     "name": "stderr",
     "output_type": "stream",
     "text": [
      "/var/folders/vb/2f5pphz943qdprdg5zvhqsbm0000gp/T/ipykernel_5361/553803778.py:2: FutureWarning: The default value of regex will change from True to False in a future version.\n",
      "  return series.str.replace(r'(\\d+)/(\\d+)/(\\d+)', r'\\3/\\1/\\2')\n"
     ]
    },
    {
     "data": {
      "text/plain": [
       "0    19/02/04\n",
       "1    19/02/05\n",
       "2    19/02/06\n",
       "3    19/02/07\n",
       "4    19/02/08\n",
       "5    19/02/09\n",
       "6    19/02/10\n",
       "dtype: object"
      ]
     },
     "execution_count": 15,
     "metadata": {},
     "output_type": "execute_result"
    }
   ],
   "source": [
    "date_converter(dates)\n"
   ]
  },
  {
   "cell_type": "markdown",
   "id": "7d37cc00",
   "metadata": {},
   "source": [
    "### Q5).Write a regex to extract the various parts of these logfile lines:\n",
    "\n"
   ]
  },
  {
   "cell_type": "raw",
   "id": "7443146c",
   "metadata": {},
   "source": [
    "GET /api/v1/sales?page=86 [16/Apr/2019:193452+0000] HTTP/1.1 {200} 510348 \"python-requests/2.21.0\" 97.105.19.58\n",
    "POST /users_accounts/file-upload [16/Apr/2019:193452+0000] HTTP/1.1 {201} 42 \"User-Agent: Mozilla/5.0 (X11; Fedora; Fedora; Linux x86_64) AppleWebKit/537.36 (KHTML, like Gecko) Chrome/73.0.3683.86 Safari/537.36\" 97.105.19.58\n",
    "GET /api/v1/items?page=3 [16/Apr/2019:193453+0000] HTTP/1.1 {429} 3561 \"python-requests/2.21.0\" 97.105.19.58\n"
   ]
  },
  {
   "cell_type": "code",
   "execution_count": 16,
   "id": "12dd11bd",
   "metadata": {},
   "outputs": [
    {
     "data": {
      "text/html": [
       "<div>\n",
       "<style scoped>\n",
       "    .dataframe tbody tr th:only-of-type {\n",
       "        vertical-align: middle;\n",
       "    }\n",
       "\n",
       "    .dataframe tbody tr th {\n",
       "        vertical-align: top;\n",
       "    }\n",
       "\n",
       "    .dataframe thead th {\n",
       "        text-align: right;\n",
       "    }\n",
       "</style>\n",
       "<table border=\"1\" class=\"dataframe\">\n",
       "  <thead>\n",
       "    <tr style=\"text-align: right;\">\n",
       "      <th></th>\n",
       "      <th>line</th>\n",
       "      <th>method</th>\n",
       "      <th>path</th>\n",
       "      <th>timestamp</th>\n",
       "      <th>status</th>\n",
       "      <th>bytes_sent</th>\n",
       "      <th>user_agent</th>\n",
       "      <th>ip</th>\n",
       "    </tr>\n",
       "  </thead>\n",
       "  <tbody>\n",
       "    <tr>\n",
       "      <th>0</th>\n",
       "      <td>GET /api/v1/sales?page=86 [16/Apr/2019:193452+...</td>\n",
       "      <td>GET</td>\n",
       "      <td>/api/v1/sales?page=86</td>\n",
       "      <td>16/Apr/2019:193452+0000</td>\n",
       "      <td>200</td>\n",
       "      <td>510348</td>\n",
       "      <td>python-requests/2.21.0</td>\n",
       "      <td>97.105.19.58</td>\n",
       "    </tr>\n",
       "    <tr>\n",
       "      <th>1</th>\n",
       "      <td>POST /users_accounts/file-upload [16/Apr/2019:...</td>\n",
       "      <td>POST</td>\n",
       "      <td>/users_accounts/file-upload</td>\n",
       "      <td>16/Apr/2019:193452+0000</td>\n",
       "      <td>201</td>\n",
       "      <td>42</td>\n",
       "      <td>User-Agent: Mozilla/5.0 (X11; Fedora; Fedora; ...</td>\n",
       "      <td>97.105.19.58</td>\n",
       "    </tr>\n",
       "    <tr>\n",
       "      <th>2</th>\n",
       "      <td>GET /api/v1/items?page=3 [16/Apr/2019:193453+0...</td>\n",
       "      <td>GET</td>\n",
       "      <td>/api/v1/items?page=3</td>\n",
       "      <td>16/Apr/2019:193453+0000</td>\n",
       "      <td>429</td>\n",
       "      <td>3561</td>\n",
       "      <td>python-requests/2.21.0</td>\n",
       "      <td>97.105.19.58</td>\n",
       "    </tr>\n",
       "  </tbody>\n",
       "</table>\n",
       "</div>"
      ],
      "text/plain": [
       "                                                line method  \\\n",
       "0  GET /api/v1/sales?page=86 [16/Apr/2019:193452+...    GET   \n",
       "1  POST /users_accounts/file-upload [16/Apr/2019:...   POST   \n",
       "2  GET /api/v1/items?page=3 [16/Apr/2019:193453+0...    GET   \n",
       "\n",
       "                          path                timestamp status bytes_sent  \\\n",
       "0        /api/v1/sales?page=86  16/Apr/2019:193452+0000    200     510348   \n",
       "1  /users_accounts/file-upload  16/Apr/2019:193452+0000    201         42   \n",
       "2         /api/v1/items?page=3  16/Apr/2019:193453+0000    429       3561   \n",
       "\n",
       "                                          user_agent            ip  \n",
       "0                             python-requests/2.21.0  97.105.19.58  \n",
       "1  User-Agent: Mozilla/5.0 (X11; Fedora; Fedora; ...  97.105.19.58  \n",
       "2                             python-requests/2.21.0  97.105.19.58  "
      ]
     },
     "execution_count": 16,
     "metadata": {},
     "output_type": "execute_result"
    }
   ],
   "source": [
    "lines = \"\"\"\n",
    "GET /api/v1/sales?page=86 [16/Apr/2019:193452+0000] HTTP/1.1 {200} 510348 \"python-requests/2.21.0\" 97.105.19.58\n",
    "POST /users_accounts/file-upload [16/Apr/2019:193452+0000] HTTP/1.1 {201} 42 \"User-Agent: Mozilla/5.0 (X11; Fedora; Fedora; Linux x86_64) AppleWebKit/537.36 (KHTML, like Gecko) Chrome/73.0.3683.86 Safari/537.36\" 97.105.19.58\n",
    "GET /api/v1/items?page=3 [16/Apr/2019:193453+0000] HTTP/1.1 {429} 3561 \"python-requests/2.21.0\" 97.105.19.58\n",
    "\"\"\"\n",
    "\n",
    "# method, endpoint, date, protocol, http_status_code, some_number, \"user_agent\", ip_address\n",
    "\n",
    "regex = r'''\n",
    "(?P<method>[A-Z]+)\n",
    "\\s\n",
    "(?P<path>.*)\n",
    "\\s\n",
    "\\[(?P<timestamp>.*)\\]\n",
    "\\s\n",
    "HTTP/1.1\n",
    "\\s\n",
    "{(?P<status>\\d+)}\n",
    "\\s\n",
    "(?P<bytes_sent>\\d+)\n",
    "\\s\n",
    "\"(?P<user_agent>.*)\"\n",
    "\\s+\n",
    "(?P<ip>\\d{1,3}\\.\\d{1,3}\\.\\d{1,3}\\.\\d{1,3})\n",
    "'''\n",
    "\n",
    "regex = re.compile(regex, re.VERBOSE)\n",
    "\n",
    "df = pd.DataFrame()\n",
    "df['line'] = lines.strip().split('\\n')\n",
    "df = pd.concat([df, df.line.str.extract(regex)], axis=1)\n",
    "df"
   ]
  },
  {
   "cell_type": "markdown",
   "id": "0d1c54b0",
   "metadata": {},
   "source": [
    "# Bonus Exercise:\n",
    "\n"
   ]
  },
  {
   "cell_type": "markdown",
   "id": "179e02a2",
   "metadata": {},
   "source": [
    "#### You can find a list of words on your mac at /usr/share/dict/words. Use this file to answer the following questions:"
   ]
  },
  {
   "cell_type": "raw",
   "id": "fecd3119",
   "metadata": {},
   "source": [
    "- How many words have at least 3 vowels?\n",
    "- How many words have at least 3 vowels in a row?\n",
    "- How many words have at least 4 consonants in a row?\n",
    "- How many words start and end with the same letter?\n",
    "- How many words start and end with a vowel?\n",
    "- How many words contain the same letter 3 times in a row?\n",
    "- What other interesting patterns in words can you find?\n"
   ]
  },
  {
   "cell_type": "code",
   "execution_count": 17,
   "id": "2928b30d",
   "metadata": {},
   "outputs": [],
   "source": [
    "dictionary = pd.read_csv('/usr/share/dict/words', header=None, squeeze=True).dropna()\n",
    "dictionary = dictionary.str.lower()"
   ]
  },
  {
   "cell_type": "markdown",
   "id": "3abac62f",
   "metadata": {},
   "source": [
    "### 1. Use this file to answer the following questions: How many words have at least 3 vowels?\n"
   ]
  },
  {
   "cell_type": "code",
   "execution_count": 18,
   "id": "614528bf",
   "metadata": {},
   "outputs": [
    {
     "data": {
      "text/plain": [
       "3"
      ]
     },
     "execution_count": 18,
     "metadata": {},
     "output_type": "execute_result"
    }
   ],
   "source": [
    "# create a function to count the number of vowels in the word\n",
    "def vowel_count(word):\n",
    "    regexp = r'[AEIOUaeiou]'\n",
    "    dictionary  = re.findall(regexp, word)\n",
    "    return len(dictionary )\n",
    "\n",
    "# now iterate through a small list, if the length of the vowel count is 3 or more append word to list\n",
    "small_list = [ 'Aaronitic',\n",
    " 'Aaru',\n",
    " 'Ab',\n",
    " 'aba',\n",
    " 'Ababdeh']\n",
    "small_vowels3 = []\n",
    "\n",
    "for word in small_list:\n",
    "    if vowel_count(word) >= 3:\n",
    "        small_vowels3.append(word)\n",
    "# find length of list\n",
    "len(small_vowels3)"
   ]
  },
  {
   "cell_type": "code",
   "execution_count": 19,
   "id": "f14b9709",
   "metadata": {},
   "outputs": [
    {
     "data": {
      "text/plain": [
       "191365"
      ]
     },
     "execution_count": 19,
     "metadata": {},
     "output_type": "execute_result"
    }
   ],
   "source": [
    "# now full list\n",
    "# create an empty list to hold the word that meet conditions\n",
    "vowels3 = []\n",
    "# iterate though full word list and append to empty list if vowel count is 3 or more\n",
    "for word in dictionary:\n",
    "    if vowel_count(word) >=3:\n",
    "        vowels3.append(word)\n",
    "\n",
    "# find the length of the list, this is the number of words with 3 or more vowels\n",
    "len(vowels3)"
   ]
  },
  {
   "cell_type": "code",
   "execution_count": 20,
   "id": "3de4accb",
   "metadata": {},
   "outputs": [
    {
     "data": {
      "text/plain": [
       "['iaeou']"
      ]
     },
     "execution_count": 20,
     "metadata": {},
     "output_type": "execute_result"
    }
   ],
   "source": [
    "regexp = r'[AEIOUaeiou]{3,}'\n",
    "re.findall(regexp, 'contentiaeous')"
   ]
  },
  {
   "cell_type": "markdown",
   "id": "7001960e",
   "metadata": {},
   "source": [
    "### 2. How many words have at least 3 vowels in a row?\n",
    "\n"
   ]
  },
  {
   "cell_type": "code",
   "execution_count": 21,
   "id": "da08d890",
   "metadata": {},
   "outputs": [
    {
     "data": {
      "text/plain": [
       "6182"
      ]
     },
     "execution_count": 21,
     "metadata": {},
     "output_type": "execute_result"
    }
   ],
   "source": [
    "# function to find quallifing words\n",
    "def vowel3_inarow(word):\n",
    "    regexp = r'[AEIOUaeiou]{3,}'\n",
    "    vowels_inrow = re.findall(regexp, word)\n",
    "    return len(vowels_inrow)\n",
    "\n",
    "# list to hold qualifying words\n",
    "consec_vowels = []\n",
    "# iterate though full word list and append to empty list if vowel count is 3 or more\n",
    "for word in dictionary:\n",
    "    if vowel3_inarow(word) >0:\n",
    "        consec_vowels.append(word)\n",
    "\n",
    "# find the length of the list, this is the number of words with 3 or more vowels in a row\n",
    "len(consec_vowels)\n"
   ]
  },
  {
   "cell_type": "code",
   "execution_count": 22,
   "id": "44156817",
   "metadata": {},
   "outputs": [
    {
     "data": {
      "text/plain": [
       "1"
      ]
     },
     "execution_count": 22,
     "metadata": {},
     "output_type": "execute_result"
    }
   ],
   "source": [
    "# this was a test of funtion to see what was being returned\n",
    "vowel3_inarow('abstractitious')"
   ]
  },
  {
   "cell_type": "code",
   "execution_count": 23,
   "id": "edaeaf29",
   "metadata": {},
   "outputs": [
    {
     "data": {
      "text/plain": [
       "0"
      ]
     },
     "execution_count": 23,
     "metadata": {},
     "output_type": "execute_result"
    }
   ],
   "source": [
    "# this was a test of funtion to see what was being returned\n",
    "vowel3_inarow('abstraction')"
   ]
  },
  {
   "cell_type": "markdown",
   "id": "b946075d",
   "metadata": {},
   "source": [
    "### 3. How many words have at least 4 consonants in a row?\n",
    "\n"
   ]
  },
  {
   "cell_type": "code",
   "execution_count": 24,
   "id": "44b611b3",
   "metadata": {},
   "outputs": [
    {
     "data": {
      "text/plain": [
       "19241"
      ]
     },
     "execution_count": 24,
     "metadata": {},
     "output_type": "execute_result"
    }
   ],
   "source": [
    "# originally had regexp = r'[A-Za-z]{4}' but this wasn't only consonants\n",
    "# function to find quallifing words\n",
    "def cons4_inarow(word):\n",
    "    regexp = r'[^AEIOUaeiou]{4,}'\n",
    "    cons_inrow = re.findall(regexp, word)\n",
    "    return len(cons_inrow)\n",
    "\n",
    "# list to hold qualifying words\n",
    "consec4_cons = []\n",
    "# iterate though full word list and append to empty list if consonant count is 4 or more\n",
    "for word in dictionary:\n",
    "    if cons4_inarow(word) >0:\n",
    "        consec4_cons.append(word)\n",
    "\n",
    "# find the length of the list, this is the number of words with 4 or more consonants in a row\n",
    "len(consec4_cons)\n",
    "\n",
    "# walkthrough answer has list changed to all lowercase and dropped nulls in dataframe\n",
    "# walkthrough answer = 19640\n",
    "# Zach found double counting in his method, changed method and his number matches mine"
   ]
  },
  {
   "cell_type": "code",
   "execution_count": null,
   "id": "700cdd5c",
   "metadata": {},
   "outputs": [],
   "source": []
  },
  {
   "cell_type": "markdown",
   "id": "77c4ccb4",
   "metadata": {},
   "source": [
    "### 4. How many words start and end with the same letter?\n",
    "\n"
   ]
  },
  {
   "cell_type": "code",
   "execution_count": 26,
   "id": "5d694c7b",
   "metadata": {},
   "outputs": [
    {
     "name": "stderr",
     "output_type": "stream",
     "text": [
      "/var/folders/vb/2f5pphz943qdprdg5zvhqsbm0000gp/T/ipykernel_5361/1581857838.py:4: UserWarning: This pattern has match groups. To actually get the groups, use str.extract.\n",
      "  dictionary.str.contains(r'^(.).*\\1$').sum()\n"
     ]
    },
    {
     "data": {
      "text/plain": [
       "11452"
      ]
     },
     "execution_count": 26,
     "metadata": {},
     "output_type": "execute_result"
    }
   ],
   "source": [
    "# ^ starts with thing in the first capture group, which is ., anything\n",
    "# anything, ., for zero or more times,\n",
    "# finishing with the thing in capture group 1: \\1$\n",
    "dictionary.str.contains(r'^(.).*\\1$').sum()"
   ]
  },
  {
   "cell_type": "markdown",
   "id": "2ea8fe92",
   "metadata": {},
   "source": [
    "### 5. How many words start and end with a vowel?\n"
   ]
  },
  {
   "cell_type": "code",
   "execution_count": 27,
   "id": "bff6a742",
   "metadata": {},
   "outputs": [
    {
     "data": {
      "text/plain": [
       "14657"
      ]
     },
     "execution_count": 27,
     "metadata": {},
     "output_type": "execute_result"
    }
   ],
   "source": [
    "# How many words start and end with a vowel?\n",
    "dictionary.str.contains(r'^[aeiou].*[aeiou]$').sum()"
   ]
  },
  {
   "cell_type": "markdown",
   "id": "44df188c",
   "metadata": {},
   "source": [
    "### 6. How many words contain the same letter 3 times in a row?\n"
   ]
  },
  {
   "cell_type": "markdown",
   "id": "f98de913",
   "metadata": {},
   "source": [
    "### 7. What other interesting patterns in words can you find?"
   ]
  },
  {
   "cell_type": "code",
   "execution_count": null,
   "id": "27ca65e1",
   "metadata": {},
   "outputs": [],
   "source": []
  }
 ],
 "metadata": {
  "kernelspec": {
   "display_name": "Python 3 (ipykernel)",
   "language": "python",
   "name": "python3"
  },
  "language_info": {
   "codemirror_mode": {
    "name": "ipython",
    "version": 3
   },
   "file_extension": ".py",
   "mimetype": "text/x-python",
   "name": "python",
   "nbconvert_exporter": "python",
   "pygments_lexer": "ipython3",
   "version": "3.9.7"
  }
 },
 "nbformat": 4,
 "nbformat_minor": 5
}
