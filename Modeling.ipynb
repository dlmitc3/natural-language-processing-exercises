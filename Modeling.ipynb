{
 "cells": [
  {
   "cell_type": "markdown",
   "id": "965d835e",
   "metadata": {},
   "source": [
    "## Exercises\n",
    "\n",
    "Do your work for this exercise in a file named model.\n",
    "\n",
    "Take the work we did in the lessons further:\n",
    "\n",
    "- What other types of models (i.e. different classifcation algorithms) could you use?\n",
    "- How do the models compare when trained on term frequency data alone, instead of TF-IDF values?"
   ]
  },
  {
   "cell_type": "code",
   "execution_count": 3,
   "id": "e09e2abe",
   "metadata": {},
   "outputs": [],
   "source": [
    "import acquire\n",
    "import prepare\n",
    "\n",
    "from pprint import pprint\n",
    "import numpy as np\n",
    "import pandas as pd\n",
    "import matplotlib.pyplot as plt\n",
    "\n",
    "from sklearn.feature_extraction.text import TfidfVectorizer, CountVectorizer\n",
    "from sklearn.model_selection import train_test_split\n",
    "from sklearn.metrics import classification_report, accuracy_score\n",
    "from sklearn.linear_model import LogisticRegression\n",
    "from sklearn.tree import DecisionTreeClassifier\n",
    "from sklearn.ensemble import RandomForestClassifier\n",
    "from sklearn.neighbors import KNeighborsClassifier\n",
    "from sklearn.naive_bayes import MultinomialNB\n",
    "\n",
    "from env import get_db_url\n"
   ]
  },
  {
   "cell_type": "code",
   "execution_count": 4,
   "id": "7222f70e",
   "metadata": {},
   "outputs": [
    {
     "data": {
      "text/html": [
       "<div>\n",
       "<style scoped>\n",
       "    .dataframe tbody tr th:only-of-type {\n",
       "        vertical-align: middle;\n",
       "    }\n",
       "\n",
       "    .dataframe tbody tr th {\n",
       "        vertical-align: top;\n",
       "    }\n",
       "\n",
       "    .dataframe thead th {\n",
       "        text-align: right;\n",
       "    }\n",
       "</style>\n",
       "<table border=\"1\" class=\"dataframe\">\n",
       "  <thead>\n",
       "    <tr style=\"text-align: right;\">\n",
       "      <th></th>\n",
       "      <th>label</th>\n",
       "      <th>text</th>\n",
       "    </tr>\n",
       "    <tr>\n",
       "      <th>id</th>\n",
       "      <th></th>\n",
       "      <th></th>\n",
       "    </tr>\n",
       "  </thead>\n",
       "  <tbody>\n",
       "    <tr>\n",
       "      <th>0</th>\n",
       "      <td>ham</td>\n",
       "      <td>Go until jurong point, crazy.. Available only ...</td>\n",
       "    </tr>\n",
       "    <tr>\n",
       "      <th>1</th>\n",
       "      <td>ham</td>\n",
       "      <td>Ok lar... Joking wif u oni...</td>\n",
       "    </tr>\n",
       "    <tr>\n",
       "      <th>2</th>\n",
       "      <td>spam</td>\n",
       "      <td>Free entry in 2 a wkly comp to win FA Cup fina...</td>\n",
       "    </tr>\n",
       "    <tr>\n",
       "      <th>3</th>\n",
       "      <td>ham</td>\n",
       "      <td>U dun say so early hor... U c already then say...</td>\n",
       "    </tr>\n",
       "    <tr>\n",
       "      <th>4</th>\n",
       "      <td>ham</td>\n",
       "      <td>Nah I don't think he goes to usf, he lives aro...</td>\n",
       "    </tr>\n",
       "  </tbody>\n",
       "</table>\n",
       "</div>"
      ],
      "text/plain": [
       "   label                                               text\n",
       "id                                                         \n",
       "0    ham  Go until jurong point, crazy.. Available only ...\n",
       "1    ham                      Ok lar... Joking wif u oni...\n",
       "2   spam  Free entry in 2 a wkly comp to win FA Cup fina...\n",
       "3    ham  U dun say so early hor... U c already then say...\n",
       "4    ham  Nah I don't think he goes to usf, he lives aro..."
      ]
     },
     "execution_count": 4,
     "metadata": {},
     "output_type": "execute_result"
    }
   ],
   "source": [
    "\n",
    "url = get_db_url(\"spam_db\")\n",
    "sql = \"SELECT * FROM spam\"\n",
    "\n",
    "df = pd.read_sql(sql, url, index_col=\"id\")\n",
    "df.head()\n",
    "\n"
   ]
  },
  {
   "cell_type": "code",
   "execution_count": 5,
   "id": "7ddc274b",
   "metadata": {},
   "outputs": [],
   "source": [
    "\n",
    "train, validate, test = prepare.train_validate_test_split(df, target = 'label')"
   ]
  },
  {
   "cell_type": "code",
   "execution_count": 6,
   "id": "5ee58fb9",
   "metadata": {},
   "outputs": [
    {
     "name": "stdout",
     "output_type": "stream",
     "text": [
      "Accuracy: 96.95%\n",
      "---\n",
      "Train Confusion Matrix\n",
      "actual              ham  spam\n",
      "predicted_log_reg            \n",
      "ham                2700    94\n",
      "spam                  1   324\n",
      "---\n",
      "              precision    recall  f1-score   support\n",
      "\n",
      "         ham       0.97      1.00      0.98      2701\n",
      "        spam       1.00      0.78      0.87       418\n",
      "\n",
      "    accuracy                           0.97      3119\n",
      "   macro avg       0.98      0.89      0.93      3119\n",
      "weighted avg       0.97      0.97      0.97      3119\n",
      "\n",
      "Accuracy: 95.67%\n",
      "---\n",
      "Validate Confusion Matrix\n",
      "actual              ham  spam\n",
      "predicted_log_reg            \n",
      "ham                1158    58\n",
      "spam                  0   122\n",
      "---\n",
      "              precision    recall  f1-score   support\n",
      "\n",
      "         ham       0.95      1.00      0.98      1158\n",
      "        spam       1.00      0.68      0.81       180\n",
      "\n",
      "    accuracy                           0.96      1338\n",
      "   macro avg       0.98      0.84      0.89      1338\n",
      "weighted avg       0.96      0.96      0.95      1338\n",
      "\n"
     ]
    }
   ],
   "source": [
    "tfidf = TfidfVectorizer()\n",
    "\n",
    "X_train = tfidf.fit_transform(train.text)\n",
    "X_validate = tfidf.transform(validate.text)\n",
    "X_test = tfidf.transform(test.text)\n",
    "y_train = train.label\n",
    "y_validate = validate.label\n",
    "y_test = test.label\n",
    "\n",
    "train_results_tfidf=pd.DataFrame(dict(actual = y_train))\n",
    "validate_results_tfidf = pd.DataFrame(dict(actual = y_validate))\n",
    "test_results_tfidf = pd.DataFrame(dict(actual = y_test))\n",
    "\n",
    "lm = LogisticRegression().fit(X_train, y_train)\n",
    "\n",
    "train_results_tfidf['predicted_log_reg'] = lm.predict(X_train)\n",
    "validate_results_tfidf['predicted_log_reg'] = lm.predict(X_validate)\n",
    "# test_results['predicted'] = lm.predict(X_test)\n",
    "\n",
    "print('Accuracy: {:.2%}'.format(accuracy_score(train_results_tfidf.actual, train_results_tfidf.predicted_log_reg)))\n",
    "print('---')\n",
    "print('Train Confusion Matrix')\n",
    "print(pd.crosstab(train_results_tfidf.predicted_log_reg, train_results_tfidf.actual))\n",
    "print('---')\n",
    "print(classification_report(train_results_tfidf.actual, train_results_tfidf.predicted_log_reg))\n",
    "\n",
    "\n",
    "print('Accuracy: {:.2%}'.format(accuracy_score(validate_results_tfidf.actual, validate_results_tfidf.predicted_log_reg)))\n",
    "print('---')\n",
    "print('Validate Confusion Matrix')\n",
    "print(pd.crosstab(validate_results_tfidf.predicted_log_reg, validate_results_tfidf.actual))\n",
    "print('---')\n",
    "print(classification_report(validate_results_tfidf.actual, validate_results_tfidf.predicted_log_reg))"
   ]
  },
  {
   "cell_type": "markdown",
   "id": "3080c010",
   "metadata": {},
   "source": [
    "Great accuracy here is misleading - the model never actually predicts spam! This means the model would send every message to the inbox which is not very useful but is better than sending ham to the spam box. This is likely happening because the data set is quite unbalanced so the model has few chances to learn from a spam instance. We'll optimize for precision and be ok being a little annoyed by the spam that makes it in the inbox.\n",
    "\n",
    "### Will try using a Random Forest Classifier with the tf-idf scoring"
   ]
  },
  {
   "cell_type": "code",
   "execution_count": 7,
   "id": "85d0aa6b",
   "metadata": {},
   "outputs": [
    {
     "ename": "NameError",
     "evalue": "name 'knn' is not defined",
     "output_type": "error",
     "traceback": [
      "\u001b[0;31m---------------------------------------------------------------------------\u001b[0m",
      "\u001b[0;31mNameError\u001b[0m                                 Traceback (most recent call last)",
      "\u001b[0;32m/var/folders/vb/2f5pphz943qdprdg5zvhqsbm0000gp/T/ipykernel_31829/1846352054.py\u001b[0m in \u001b[0;36m<module>\u001b[0;34m\u001b[0m\n\u001b[1;32m      1\u001b[0m print('Accuracy of KNN classifier on training set: {:.2f}'\n\u001b[0;32m----> 2\u001b[0;31m      .format(knn.score(X_train, y_train)))\n\u001b[0m",
      "\u001b[0;31mNameError\u001b[0m: name 'knn' is not defined"
     ]
    }
   ],
   "source": [
    "print('Accuracy of KNN classifier on training set: {:.2f}'\n",
    "     .format(knn.score(X_train, y_train)))\n"
   ]
  },
  {
   "cell_type": "code",
   "execution_count": null,
   "id": "fe85101b",
   "metadata": {},
   "outputs": [],
   "source": [
    "print(confusion_matrix(y_train, y_pred))\n"
   ]
  },
  {
   "cell_type": "code",
   "execution_count": null,
   "id": "ec321b05",
   "metadata": {},
   "outputs": [],
   "source": [
    "print(classification_report(y_train, y_pred))\n"
   ]
  },
  {
   "cell_type": "code",
   "execution_count": null,
   "id": "07d9d65d",
   "metadata": {},
   "outputs": [],
   "source": []
  }
 ],
 "metadata": {
  "kernelspec": {
   "display_name": "Python 3 (ipykernel)",
   "language": "python",
   "name": "python3"
  },
  "language_info": {
   "codemirror_mode": {
    "name": "ipython",
    "version": 3
   },
   "file_extension": ".py",
   "mimetype": "text/x-python",
   "name": "python",
   "nbconvert_exporter": "python",
   "pygments_lexer": "ipython3",
   "version": "3.9.7"
  }
 },
 "nbformat": 4,
 "nbformat_minor": 5
}
