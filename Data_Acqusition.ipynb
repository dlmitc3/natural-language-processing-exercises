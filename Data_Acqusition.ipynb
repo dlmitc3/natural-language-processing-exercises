{
 "cells": [
  {
   "cell_type": "code",
   "execution_count": 1,
   "id": "886e9e47",
   "metadata": {},
   "outputs": [],
   "source": [
    "import pandas as pd\n",
    "import numpy as np\n",
    "from requests import get\n",
    "from bs4 import BeautifulSoup\n",
    "import os\n",
    "from acquire import get_blog_articles, get_news_articles"
   ]
  },
  {
   "cell_type": "code",
   "execution_count": 2,
   "id": "02f71568",
   "metadata": {},
   "outputs": [],
   "source": [
    "posts = get_blog_articles()\n"
   ]
  },
  {
   "cell_type": "code",
   "execution_count": 3,
   "id": "a529a3c3",
   "metadata": {},
   "outputs": [
    {
     "name": "stdout",
     "output_type": "stream",
     "text": [
      "Scraping category:  Business\n",
      "Total News Articles in Category:  25\n",
      "Scraping category:  Sports\n",
      "Total News Articles in Category:  25\n",
      "Scraping category:  Technology\n",
      "Total News Articles in Category:  25\n",
      "Scraping category:  Entertainment\n",
      "Total News Articles in Category:  25\n"
     ]
    }
   ],
   "source": [
    "news = get_news_articles(desired_categories=['Business','Sports','Technology','Entertainment'], get_fresh_news=True)\n"
   ]
  },
  {
   "cell_type": "code",
   "execution_count": 4,
   "id": "6123633c",
   "metadata": {},
   "outputs": [
    {
     "data": {
      "text/plain": [
       "[{'title': 'Rupee closes at an all-time low of 79.98 against US dollar',\n",
       "  'author': 'Ridham Gambhir',\n",
       "  'datetime': '2022-07-18T11:00:17.000Z',\n",
       "  'category': 'business',\n",
       "  'original': 'The rupee on Monday hit a fresh record low as it ended closer to the 80-mark to close at 79.98 against the US dollar. This was the seventh consecutive session when the rupee weakened. So far this year, the currency has weakened 7.05% against the US dollar. Meanwhile, BSE Sensex closed 760 points higher at 54,521 on Monday.'},\n",
       " {'title': 'Rupee hits record low of 79.97 against US dollar',\n",
       "  'author': 'Ridham Gambhir',\n",
       "  'datetime': '2022-07-18T10:00:15.000Z',\n",
       "  'category': 'business',\n",
       "  'original': \"The rupee hit a record low of 79.97 against the US dollar on Monday after opening at 79.76. The Finance Ministry, while speaking about the matter said that global factors such as the Russia-Ukraine war, soaring crude oil prices and tightening of global financial conditions are the major reasons for the rupee's weakening.\"},\n",
       " {'title': 'BCCI had ₹40 cr in bank when I joined & ₹47,680 cr when I was banned: Lalit',\n",
       "  'author': 'Ridham Gambhir',\n",
       "  'datetime': '2022-07-17T06:35:36.000Z',\n",
       "  'category': 'business',\n",
       "  'original': 'In an Instagram post, Lalit Modi asserted that he neither took any government favour nor any bribes from anyone. He added, “I was born with a diamond spoon...When I joined BCCI, it had ₹40 crore in the bank. I joined on my birthday on November 29, 2005. Guess what was in the bank when I was banned - ₹47,680 crore.\"'}]"
      ]
     },
     "execution_count": 4,
     "metadata": {},
     "output_type": "execute_result"
    }
   ],
   "source": [
    "news[:3]\n"
   ]
  },
  {
   "cell_type": "markdown",
   "id": "7c28eac6",
   "metadata": {},
   "source": [
    "## 1.) Codeup Blog Articles\n",
    "\n",
    "Visit Codeup's Blog and record the urls for at least 5 distinct blog posts. For each post, you should scrape at least the post's title and content.\n",
    "\n",
    "Encapsulate your work in a function named get_blog_articles that will return a list of dictionaries, with each dictionary representing one article. The shape of each dictionary should look like this:\n",
    "\n",
    "\n",
    "{\n",
    "    'title': 'the title of the article',\n",
    "    'content': 'the full text content of the article'\n",
    "}\n",
    "Plus any additional properties you think might be helpful.\n",
    "\n",
    "Bonus: Scrape the text of all the articles linked on codeup's blog page.\n"
   ]
  },
  {
   "cell_type": "code",
   "execution_count": 31,
   "id": "938f2b6e",
   "metadata": {},
   "outputs": [],
   "source": [
    "url = 'https://codeup.com/blog/'\n",
    "headers = {'User-Agent': 'Codeup Data Science'} # Some websites don't accept the pyhon-requests default user-agent\n",
    "response = get(url, headers=headers)\n",
    "\n",
    "\n",
    "# Make a soup variable holding the response content\n",
    "soup = BeautifulSoup(response.content, 'html.parser')"
   ]
  },
  {
   "cell_type": "code",
   "execution_count": 32,
   "id": "e7059247",
   "metadata": {},
   "outputs": [
    {
     "data": {
      "text/plain": [
       "[<a class=\"more-link\" href=\"https://codeup.com/workshops/in-person-workshop-learn-to-code-python-on-7-19/\">read more</a>,\n",
       " <a class=\"more-link\" href=\"https://codeup.com/workshops/dallas/free-javascript-workshop-at-codeup-dallas-on-6-28/\">read more</a>,\n",
       " <a class=\"more-link\" href=\"https://codeup.com/tips-for-prospective-students/is-our-cloud-administration-program-right-for-you/\">read more</a>,\n",
       " <a class=\"more-link\" href=\"https://codeup.com/workshops/pride-in-tech-panel/\">read more</a>,\n",
       " <a class=\"more-link\" href=\"https://codeup.com/codeup-news/inclusion-at-codeup-during-pride-month-and-always/\">read more</a>,\n",
       " <a class=\"more-link\" href=\"https://codeup.com/tips-for-prospective-students/mental-health-first-aid-training/\">read more</a>,\n",
       " <a class=\"more-link\" href=\"https://codeup.com/workshops/codeup-dallas-how-to-succeed-at-a-coding-bootcamp-on-june-9th/\">read more</a>,\n",
       " <a class=\"more-link\" href=\"https://codeup.com/featured/5-reasons-to-attend-our-new-cloud-administration-program/\">read more</a>,\n",
       " <a class=\"more-link\" href=\"https://codeup.com/workshops/learn-to-code-python-on-5-21/\">read more</a>,\n",
       " <a class=\"more-link\" href=\"https://codeup.com/dallas-newsletter/codeup-dallas-joins-career-day/\">read more</a>,\n",
       " <a class=\"more-link\" href=\"https://codeup.com/workshops/project-quest-info-session-may-24th/\">read more</a>,\n",
       " <a class=\"more-link\" href=\"https://codeup.com/workshops/from-bootcamp-to-bootcamp-a-military-appreciation-panel/\">read more</a>,\n",
       " <a class=\"more-link\" href=\"https://codeup.com/featured/our-acquisition-of-the-rackspace-cloud-academy-one-year-later/\">read more</a>,\n",
       " <a class=\"more-link\" href=\"https://codeup.com/workshops/virtual/learn-to-code-html-css-on-4-30/\">read more</a>,\n",
       " <a class=\"more-link\" href=\"https://codeup.com/workshops/virtual/learn-to-code-python-workshop-on-4-16/\">read more</a>]"
      ]
     },
     "execution_count": 32,
     "metadata": {},
     "output_type": "execute_result"
    }
   ],
   "source": [
    "soup.select('.more-link')"
   ]
  },
  {
   "cell_type": "code",
   "execution_count": 33,
   "id": "2b611d21",
   "metadata": {},
   "outputs": [
    {
     "data": {
      "text/plain": [
       "'https://codeup.com/featured/what-jobs-can-you-get-after-a-coding-bootcamp-part-2-cloud-administration/'"
      ]
     },
     "execution_count": 33,
     "metadata": {},
     "output_type": "execute_result"
    }
   ],
   "source": [
    "soup.select('h2 a[href]')[0]['href']"
   ]
  },
  {
   "cell_type": "code",
   "execution_count": 18,
   "id": "ad021bd8",
   "metadata": {},
   "outputs": [
    {
     "data": {
      "text/plain": [
       "[1, 2, 3, 4, 5, 6, 7, 8, 9, 10]"
      ]
     },
     "execution_count": 18,
     "metadata": {},
     "output_type": "execute_result"
    }
   ],
   "source": [
    "[n for n in range (1, 11)]"
   ]
  },
  {
   "cell_type": "code",
   "execution_count": 19,
   "id": "cc8368c9",
   "metadata": {},
   "outputs": [
    {
     "data": {
      "text/plain": [
       "['https://codeup.com/featured/what-jobs-can-you-get-after-a-coding-bootcamp-part-2-cloud-administration/',\n",
       " 'https://codeup.com/data-science/jobs-after-a-coding-bootcamp-part-1-data-science/',\n",
       " 'https://codeup.com/tips-for-prospective-students/is-our-cloud-administration-program-right-for-you/',\n",
       " 'https://codeup.com/featured/5-reasons-to-attend-our-new-cloud-administration-program/',\n",
       " 'https://codeup.com/featured/what-jobs-can-you-get-after-a-coding-bootcamp-part-2-cloud-administration/',\n",
       " 'https://codeup.com/data-science/jobs-after-a-coding-bootcamp-part-1-data-science/',\n",
       " 'https://codeup.com/workshops/san-antonio/in-person-workshop-learn-to-code-javascript-on-7-26/',\n",
       " 'https://codeup.com/workshops/in-person-workshop-learn-to-code-python-on-7-19/',\n",
       " 'https://codeup.com/workshops/dallas/free-javascript-workshop-at-codeup-dallas-on-6-28/',\n",
       " 'https://codeup.com/tips-for-prospective-students/is-our-cloud-administration-program-right-for-you/',\n",
       " 'https://codeup.com/workshops/pride-in-tech-panel/',\n",
       " 'https://codeup.com/codeup-news/inclusion-at-codeup-during-pride-month-and-always/',\n",
       " 'https://codeup.com/tips-for-prospective-students/mental-health-first-aid-training/',\n",
       " 'https://codeup.com/workshops/codeup-dallas-how-to-succeed-at-a-coding-bootcamp-on-june-9th/',\n",
       " 'https://codeup.com/featured/5-reasons-to-attend-our-new-cloud-administration-program/',\n",
       " 'https://codeup.com/workshops/learn-to-code-python-on-5-21/',\n",
       " 'https://codeup.com/dallas-newsletter/codeup-dallas-joins-career-day/',\n",
       " 'https://codeup.com/workshops/project-quest-info-session-may-24th/',\n",
       " 'https://codeup.com/workshops/from-bootcamp-to-bootcamp-a-military-appreciation-panel/',\n",
       " 'https://codeup.com/featured/our-acquisition-of-the-rackspace-cloud-academy-one-year-later/',\n",
       " 'https://codeup.com/workshops/virtual/learn-to-code-html-css-on-4-30/',\n",
       " 'https://codeup.com/workshops/virtual/learn-to-code-python-workshop-on-4-16/']"
      ]
     },
     "execution_count": 19,
     "metadata": {},
     "output_type": "execute_result"
    }
   ],
   "source": [
    "links = [a['href'] for a in soup.select('h2 a[href]')]\n",
    "links"
   ]
  },
  {
   "cell_type": "code",
   "execution_count": 24,
   "id": "c99db661",
   "metadata": {},
   "outputs": [],
   "source": [
    "url = links[0]\n",
    "response = get(url, headers=headers)\n",
    "soup = BeautifulSoup(response.text)"
   ]
  },
  {
   "cell_type": "code",
   "execution_count": 25,
   "id": "30b8be33",
   "metadata": {},
   "outputs": [
    {
     "data": {
      "text/plain": [
       "'What Jobs Can You Get After a Coding Bootcamp? Part 2: Cloud Administration'"
      ]
     },
     "execution_count": 25,
     "metadata": {},
     "output_type": "execute_result"
    }
   ],
   "source": [
    "soup.find('h1', class_='entry-title').text"
   ]
  },
  {
   "cell_type": "code",
   "execution_count": 26,
   "id": "9029533c",
   "metadata": {},
   "outputs": [
    {
     "data": {
      "text/plain": [
       "'Have you been considering a career in Cloud Administration, but have no idea what your job title or potential salary could be? Continue reading below to find out!\\nIn this mini-series, we will take each of our programs here at Codeup: Data Science, Web Development, and Cloud Administration, and outline respectively potential job titles, as well as entry-level salaries.*\\xa0Let’s discuss Cloud Administration.\\nProgram Overview\\nAt Codeup, we offer a 15-week Cloud Administration program, which was derived from our previous two programs: Systems Engineering and Cyber Cloud. We combined the best of both and blended hands-on practical knowledge with skilled instructors to create the Cloud Administration program.\\nUpon completing this program, you’ll have the opportunity to take on two exams for certifications: Amazon Web Services (AWS) Cloud Practitioner and AWS Solutions Architect Associate.\\xa0\\nPotential Jobs\\nAccording to A Cloud Guru, with an AWS Certification you’ll be equipped with the knowledge and experience to secure a job as the following:\\n1. Cloud Architect\\nAs a Cloud Architect, you will double as an IT specialist responsible for your organization’s cloud infrastructure. This includes system monitoring, computing strategy, planning, building and deployment. An entry-level Cloud Architect can make an estimated $93,892 annually according to Glassdoor.\\xa0\\n2. Cloud Developer\\nA Cloud Developer’s main duties align with a software developer’s. The differentiating factor is a Cloud Developer operates virtually with cloud computing technology. This may include the design, analysis and maintenance of a company’s cloud infrastructure. An entry-level Cloud Developer can make an estimated $89,652 annually according to Glassdoor.\\xa0\\n3. Cloud Systems Administrator\\nA Cloud Systems Administrator can be expected to provide insight on cloud systems, specifically working with IT to provide assistance and resolve operational issues. An entry-level Cloud Systems Administrator can make an estimated $64,805 annually according to Glassdoor.\\nHonorable Mention\\nA few additional roles to consider with AWS Certification include:\\xa0\\n\\nCloud DevOps Engineer- Estimated Entry-Level Salary $88,563\\nCloud Security Engineer- Estimated Entry-Level Salary $85,111\\nCloud Data Architect- Estimated Entry-Level Salary $91,598\\nCloud Consultant- Estimated Entry-Level Salary $72,474\\n\\nInterested in the other parts of this mini-series? Check them out below!\\n\\nPart 1: Data Science\\nPart 3: Web Development (Coming Soon!)\\xa0\\n\\n*Disclaimer: All information presented in this article is by no means guaranteed by completing a Codeup program. Salaries and duties vary based on factors such as company, location, and experience. These salaries are estimates based on San Antonio, TX data, and these duties are general and may not be exact for every position.'"
      ]
     },
     "execution_count": 26,
     "metadata": {},
     "output_type": "execute_result"
    }
   ],
   "source": [
    "soup.find('div', class_='entry-content').text.strip()"
   ]
  },
  {
   "cell_type": "code",
   "execution_count": 35,
   "id": "c4178dd9",
   "metadata": {},
   "outputs": [
    {
     "ename": "InvalidURL",
     "evalue": "Invalid URL 'https:codeup.com/blog/': No host supplied",
     "output_type": "error",
     "traceback": [
      "\u001b[0;31m---------------------------------------------------------------------------\u001b[0m",
      "\u001b[0;31mInvalidURL\u001b[0m                                Traceback (most recent call last)",
      "\u001b[0;32m/var/folders/vb/2f5pphz943qdprdg5zvhqsbm0000gp/T/ipykernel_15347/1162006287.py\u001b[0m in \u001b[0;36m<module>\u001b[0;34m\u001b[0m\n\u001b[1;32m      1\u001b[0m \u001b[0murl\u001b[0m \u001b[0;34m=\u001b[0m \u001b[0;34m'https:codeup.com/blog/'\u001b[0m\u001b[0;34m\u001b[0m\u001b[0;34m\u001b[0m\u001b[0m\n\u001b[1;32m      2\u001b[0m \u001b[0mheaders\u001b[0m\u001b[0;34m=\u001b[0m \u001b[0;34m{\u001b[0m\u001b[0;34m'User-Agent'\u001b[0m\u001b[0;34m:\u001b[0m \u001b[0;34m'Codeup Data Science'\u001b[0m\u001b[0;34m}\u001b[0m\u001b[0;34m\u001b[0m\u001b[0;34m\u001b[0m\u001b[0m\n\u001b[0;32m----> 3\u001b[0;31m \u001b[0mresponse\u001b[0m \u001b[0;34m-\u001b[0m \u001b[0mget\u001b[0m\u001b[0;34m(\u001b[0m\u001b[0murl\u001b[0m\u001b[0;34m,\u001b[0m \u001b[0mheaders\u001b[0m\u001b[0;34m=\u001b[0m\u001b[0mheaders\u001b[0m\u001b[0;34m)\u001b[0m\u001b[0;34m\u001b[0m\u001b[0;34m\u001b[0m\u001b[0m\n\u001b[0m\u001b[1;32m      4\u001b[0m \u001b[0;34m\u001b[0m\u001b[0m\n\u001b[1;32m      5\u001b[0m \u001b[0msoup\u001b[0m \u001b[0;34m=\u001b[0m \u001b[0mBeautifulSoup\u001b[0m\u001b[0;34m(\u001b[0m\u001b[0mresponse\u001b[0m\u001b[0;34m.\u001b[0m\u001b[0mcontent\u001b[0m\u001b[0;34m,\u001b[0m \u001b[0;34m'html.parser'\u001b[0m\u001b[0;34m)\u001b[0m\u001b[0;34m\u001b[0m\u001b[0;34m\u001b[0m\u001b[0m\n",
      "\u001b[0;32m/opt/homebrew/anaconda3/lib/python3.9/site-packages/requests/api.py\u001b[0m in \u001b[0;36mget\u001b[0;34m(url, params, **kwargs)\u001b[0m\n\u001b[1;32m     73\u001b[0m     \"\"\"\n\u001b[1;32m     74\u001b[0m \u001b[0;34m\u001b[0m\u001b[0m\n\u001b[0;32m---> 75\u001b[0;31m     \u001b[0;32mreturn\u001b[0m \u001b[0mrequest\u001b[0m\u001b[0;34m(\u001b[0m\u001b[0;34m'get'\u001b[0m\u001b[0;34m,\u001b[0m \u001b[0murl\u001b[0m\u001b[0;34m,\u001b[0m \u001b[0mparams\u001b[0m\u001b[0;34m=\u001b[0m\u001b[0mparams\u001b[0m\u001b[0;34m,\u001b[0m \u001b[0;34m**\u001b[0m\u001b[0mkwargs\u001b[0m\u001b[0;34m)\u001b[0m\u001b[0;34m\u001b[0m\u001b[0;34m\u001b[0m\u001b[0m\n\u001b[0m\u001b[1;32m     76\u001b[0m \u001b[0;34m\u001b[0m\u001b[0m\n\u001b[1;32m     77\u001b[0m \u001b[0;34m\u001b[0m\u001b[0m\n",
      "\u001b[0;32m/opt/homebrew/anaconda3/lib/python3.9/site-packages/requests/api.py\u001b[0m in \u001b[0;36mrequest\u001b[0;34m(method, url, **kwargs)\u001b[0m\n\u001b[1;32m     59\u001b[0m     \u001b[0;31m# cases, and look like a memory leak in others.\u001b[0m\u001b[0;34m\u001b[0m\u001b[0;34m\u001b[0m\u001b[0m\n\u001b[1;32m     60\u001b[0m     \u001b[0;32mwith\u001b[0m \u001b[0msessions\u001b[0m\u001b[0;34m.\u001b[0m\u001b[0mSession\u001b[0m\u001b[0;34m(\u001b[0m\u001b[0;34m)\u001b[0m \u001b[0;32mas\u001b[0m \u001b[0msession\u001b[0m\u001b[0;34m:\u001b[0m\u001b[0;34m\u001b[0m\u001b[0;34m\u001b[0m\u001b[0m\n\u001b[0;32m---> 61\u001b[0;31m         \u001b[0;32mreturn\u001b[0m \u001b[0msession\u001b[0m\u001b[0;34m.\u001b[0m\u001b[0mrequest\u001b[0m\u001b[0;34m(\u001b[0m\u001b[0mmethod\u001b[0m\u001b[0;34m=\u001b[0m\u001b[0mmethod\u001b[0m\u001b[0;34m,\u001b[0m \u001b[0murl\u001b[0m\u001b[0;34m=\u001b[0m\u001b[0murl\u001b[0m\u001b[0;34m,\u001b[0m \u001b[0;34m**\u001b[0m\u001b[0mkwargs\u001b[0m\u001b[0;34m)\u001b[0m\u001b[0;34m\u001b[0m\u001b[0;34m\u001b[0m\u001b[0m\n\u001b[0m\u001b[1;32m     62\u001b[0m \u001b[0;34m\u001b[0m\u001b[0m\n\u001b[1;32m     63\u001b[0m \u001b[0;34m\u001b[0m\u001b[0m\n",
      "\u001b[0;32m/opt/homebrew/anaconda3/lib/python3.9/site-packages/requests/sessions.py\u001b[0m in \u001b[0;36mrequest\u001b[0;34m(self, method, url, params, data, headers, cookies, files, auth, timeout, allow_redirects, proxies, hooks, stream, verify, cert, json)\u001b[0m\n\u001b[1;32m    526\u001b[0m             \u001b[0mhooks\u001b[0m\u001b[0;34m=\u001b[0m\u001b[0mhooks\u001b[0m\u001b[0;34m,\u001b[0m\u001b[0;34m\u001b[0m\u001b[0;34m\u001b[0m\u001b[0m\n\u001b[1;32m    527\u001b[0m         )\n\u001b[0;32m--> 528\u001b[0;31m         \u001b[0mprep\u001b[0m \u001b[0;34m=\u001b[0m \u001b[0mself\u001b[0m\u001b[0;34m.\u001b[0m\u001b[0mprepare_request\u001b[0m\u001b[0;34m(\u001b[0m\u001b[0mreq\u001b[0m\u001b[0;34m)\u001b[0m\u001b[0;34m\u001b[0m\u001b[0;34m\u001b[0m\u001b[0m\n\u001b[0m\u001b[1;32m    529\u001b[0m \u001b[0;34m\u001b[0m\u001b[0m\n\u001b[1;32m    530\u001b[0m         \u001b[0mproxies\u001b[0m \u001b[0;34m=\u001b[0m \u001b[0mproxies\u001b[0m \u001b[0;32mor\u001b[0m \u001b[0;34m{\u001b[0m\u001b[0;34m}\u001b[0m\u001b[0;34m\u001b[0m\u001b[0;34m\u001b[0m\u001b[0m\n",
      "\u001b[0;32m/opt/homebrew/anaconda3/lib/python3.9/site-packages/requests/sessions.py\u001b[0m in \u001b[0;36mprepare_request\u001b[0;34m(self, request)\u001b[0m\n\u001b[1;32m    454\u001b[0m \u001b[0;34m\u001b[0m\u001b[0m\n\u001b[1;32m    455\u001b[0m         \u001b[0mp\u001b[0m \u001b[0;34m=\u001b[0m \u001b[0mPreparedRequest\u001b[0m\u001b[0;34m(\u001b[0m\u001b[0;34m)\u001b[0m\u001b[0;34m\u001b[0m\u001b[0;34m\u001b[0m\u001b[0m\n\u001b[0;32m--> 456\u001b[0;31m         p.prepare(\n\u001b[0m\u001b[1;32m    457\u001b[0m             \u001b[0mmethod\u001b[0m\u001b[0;34m=\u001b[0m\u001b[0mrequest\u001b[0m\u001b[0;34m.\u001b[0m\u001b[0mmethod\u001b[0m\u001b[0;34m.\u001b[0m\u001b[0mupper\u001b[0m\u001b[0;34m(\u001b[0m\u001b[0;34m)\u001b[0m\u001b[0;34m,\u001b[0m\u001b[0;34m\u001b[0m\u001b[0;34m\u001b[0m\u001b[0m\n\u001b[1;32m    458\u001b[0m             \u001b[0murl\u001b[0m\u001b[0;34m=\u001b[0m\u001b[0mrequest\u001b[0m\u001b[0;34m.\u001b[0m\u001b[0murl\u001b[0m\u001b[0;34m,\u001b[0m\u001b[0;34m\u001b[0m\u001b[0;34m\u001b[0m\u001b[0m\n",
      "\u001b[0;32m/opt/homebrew/anaconda3/lib/python3.9/site-packages/requests/models.py\u001b[0m in \u001b[0;36mprepare\u001b[0;34m(self, method, url, headers, files, data, params, auth, cookies, hooks, json)\u001b[0m\n\u001b[1;32m    314\u001b[0m \u001b[0;34m\u001b[0m\u001b[0m\n\u001b[1;32m    315\u001b[0m         \u001b[0mself\u001b[0m\u001b[0;34m.\u001b[0m\u001b[0mprepare_method\u001b[0m\u001b[0;34m(\u001b[0m\u001b[0mmethod\u001b[0m\u001b[0;34m)\u001b[0m\u001b[0;34m\u001b[0m\u001b[0;34m\u001b[0m\u001b[0m\n\u001b[0;32m--> 316\u001b[0;31m         \u001b[0mself\u001b[0m\u001b[0;34m.\u001b[0m\u001b[0mprepare_url\u001b[0m\u001b[0;34m(\u001b[0m\u001b[0murl\u001b[0m\u001b[0;34m,\u001b[0m \u001b[0mparams\u001b[0m\u001b[0;34m)\u001b[0m\u001b[0;34m\u001b[0m\u001b[0;34m\u001b[0m\u001b[0m\n\u001b[0m\u001b[1;32m    317\u001b[0m         \u001b[0mself\u001b[0m\u001b[0;34m.\u001b[0m\u001b[0mprepare_headers\u001b[0m\u001b[0;34m(\u001b[0m\u001b[0mheaders\u001b[0m\u001b[0;34m)\u001b[0m\u001b[0;34m\u001b[0m\u001b[0;34m\u001b[0m\u001b[0m\n\u001b[1;32m    318\u001b[0m         \u001b[0mself\u001b[0m\u001b[0;34m.\u001b[0m\u001b[0mprepare_cookies\u001b[0m\u001b[0;34m(\u001b[0m\u001b[0mcookies\u001b[0m\u001b[0;34m)\u001b[0m\u001b[0;34m\u001b[0m\u001b[0;34m\u001b[0m\u001b[0m\n",
      "\u001b[0;32m/opt/homebrew/anaconda3/lib/python3.9/site-packages/requests/models.py\u001b[0m in \u001b[0;36mprepare_url\u001b[0;34m(self, url, params)\u001b[0m\n\u001b[1;32m    391\u001b[0m \u001b[0;34m\u001b[0m\u001b[0m\n\u001b[1;32m    392\u001b[0m         \u001b[0;32mif\u001b[0m \u001b[0;32mnot\u001b[0m \u001b[0mhost\u001b[0m\u001b[0;34m:\u001b[0m\u001b[0;34m\u001b[0m\u001b[0;34m\u001b[0m\u001b[0m\n\u001b[0;32m--> 393\u001b[0;31m             \u001b[0;32mraise\u001b[0m \u001b[0mInvalidURL\u001b[0m\u001b[0;34m(\u001b[0m\u001b[0;34m\"Invalid URL %r: No host supplied\"\u001b[0m \u001b[0;34m%\u001b[0m \u001b[0murl\u001b[0m\u001b[0;34m)\u001b[0m\u001b[0;34m\u001b[0m\u001b[0;34m\u001b[0m\u001b[0m\n\u001b[0m\u001b[1;32m    394\u001b[0m \u001b[0;34m\u001b[0m\u001b[0m\n\u001b[1;32m    395\u001b[0m         \u001b[0;31m# In general, we want to try IDNA encoding the hostname if the string contains\u001b[0m\u001b[0;34m\u001b[0m\u001b[0;34m\u001b[0m\u001b[0m\n",
      "\u001b[0;31mInvalidURL\u001b[0m: Invalid URL 'https:codeup.com/blog/': No host supplied"
     ]
    }
   ],
   "source": [
    "url = 'https:codeup.com/blog/'\n",
    "headers= {'User-Agent': 'Codeup Data Science'}\n",
    "response - get(url, headers=headers)\n",
    "\n",
    "soup = BeautifulSoup(response.content, 'html.parser')\n",
    "\n",
    "return cat_soup.select('div.news-card.z-depth-1')"
   ]
  },
  {
   "cell_type": "code",
   "execution_count": 11,
   "id": "277604ef",
   "metadata": {},
   "outputs": [],
   "source": [
    "def get_post_details(post):\n",
    "    \"\"\" Returns dictionary of url, title, date published, and content for each post on the Codeup.com/blog site\"\"\"\n",
    "    output = {}\n",
    "    # Extract URL\n",
    "    output['url'] = post.select('a')[0].attrs['href']\n",
    "    # Extract title\n",
    "    output['title'] = post.text.strip()\n",
    "    # Extract date published\n",
    "    output['date_published'] = post.select('span.published')[0].text\n",
    "    # Extracts blog post contents\n",
    "    output['content'] = get_blog_content(output['url'])\n",
    "    \n",
    "    return output\n",
    "\n",
    "def get_blog_content(url):\n",
    "    \"\"\" Returns the content of the blog post \"\"\"\n",
    "    headers = {'User-Agent': 'Codeup Data Science'} # Some websites don't accept the pyhon-requests default user-agent\n",
    "    response = get(url, headers=headers)\n",
    "\n",
    "\n",
    "    # Make a soup variable holding the response content\n",
    "    soup = BeautifulSoup(response.content, 'html.parser')\n",
    "    entry_text = \"\"\n",
    "    for t in soup.select('div.entry-content'):\n",
    "        entry_text += t.text.strip()\n",
    "    return entry_text\n",
    "\n",
    "def get_blog_articles(return_dataframe = False):\n",
    "    \"\"\" Returns dictionary (or dataframe) of information about blog posts on codeup.com/blog site \"\"\"\n",
    "    url = 'https://codeup.com/blog/'\n",
    "    headers = {'User-Agent': 'Codeup Data Science'} # Some websites don't accept the pyhon-requests default user-agent\n",
    "    response = get(url, headers=headers)\n",
    "\n",
    "\n",
    "    # Make a soup variable holding the response content\n",
    "    soup = BeautifulSoup(response.content, 'html.parser')\n",
    "    \n",
    "    if return_dataframe:\n",
    "        return pd.DataFrame([get_post_details(post) for post in soup.select('article.et_pb_post')])\n",
    "\n",
    "    return [get_post_details(post) for post in soup.select('article.et_pb_post')]\n"
   ]
  },
  {
   "cell_type": "code",
   "execution_count": 12,
   "id": "43d9b736",
   "metadata": {},
   "outputs": [
    {
     "data": {
      "text/html": [
       "<div>\n",
       "<style scoped>\n",
       "    .dataframe tbody tr th:only-of-type {\n",
       "        vertical-align: middle;\n",
       "    }\n",
       "\n",
       "    .dataframe tbody tr th {\n",
       "        vertical-align: top;\n",
       "    }\n",
       "\n",
       "    .dataframe thead th {\n",
       "        text-align: right;\n",
       "    }\n",
       "</style>\n",
       "<table border=\"1\" class=\"dataframe\">\n",
       "  <thead>\n",
       "    <tr style=\"text-align: right;\">\n",
       "      <th></th>\n",
       "      <th>url</th>\n",
       "      <th>title</th>\n",
       "      <th>date_published</th>\n",
       "      <th>content</th>\n",
       "    </tr>\n",
       "  </thead>\n",
       "  <tbody>\n",
       "    <tr>\n",
       "      <th>0</th>\n",
       "      <td>https://codeup.com/featured/what-jobs-can-you-...</td>\n",
       "      <td>What Jobs Can You Get After a Coding Bootcamp?...</td>\n",
       "      <td>Jul 14, 2022</td>\n",
       "      <td>Have you been considering a career in Cloud Ad...</td>\n",
       "    </tr>\n",
       "    <tr>\n",
       "      <th>1</th>\n",
       "      <td>https://codeup.com/data-science/jobs-after-a-c...</td>\n",
       "      <td>What Jobs Can You Get After a Coding Bootcamp?...</td>\n",
       "      <td>Jul 7, 2022</td>\n",
       "      <td>If you are interested in embarking on a career...</td>\n",
       "    </tr>\n",
       "    <tr>\n",
       "      <th>2</th>\n",
       "      <td>https://codeup.com/workshops/san-antonio/in-pe...</td>\n",
       "      <td>In-Person Workshop: Learn to Code – JavaScript...</td>\n",
       "      <td>Jul 6, 2022</td>\n",
       "      <td>Join us for our live in-person JavaScript cras...</td>\n",
       "    </tr>\n",
       "    <tr>\n",
       "      <th>3</th>\n",
       "      <td>https://codeup.com/workshops/in-person-worksho...</td>\n",
       "      <td>In-Person Workshop: Learn to Code – Python on ...</td>\n",
       "      <td>Jun 20, 2022</td>\n",
       "      <td>According to LinkedIn, the “#1 Most Promising ...</td>\n",
       "    </tr>\n",
       "    <tr>\n",
       "      <th>4</th>\n",
       "      <td>https://codeup.com/workshops/dallas/free-javas...</td>\n",
       "      <td>Free JavaScript Workshop at Codeup Dallas on 6...</td>\n",
       "      <td>Jun 19, 2022</td>\n",
       "      <td>Event Info: \\nLocation – Codeup Dallas\\nTime –...</td>\n",
       "    </tr>\n",
       "  </tbody>\n",
       "</table>\n",
       "</div>"
      ],
      "text/plain": [
       "                                                 url  \\\n",
       "0  https://codeup.com/featured/what-jobs-can-you-...   \n",
       "1  https://codeup.com/data-science/jobs-after-a-c...   \n",
       "2  https://codeup.com/workshops/san-antonio/in-pe...   \n",
       "3  https://codeup.com/workshops/in-person-worksho...   \n",
       "4  https://codeup.com/workshops/dallas/free-javas...   \n",
       "\n",
       "                                               title date_published  \\\n",
       "0  What Jobs Can You Get After a Coding Bootcamp?...   Jul 14, 2022   \n",
       "1  What Jobs Can You Get After a Coding Bootcamp?...    Jul 7, 2022   \n",
       "2  In-Person Workshop: Learn to Code – JavaScript...    Jul 6, 2022   \n",
       "3  In-Person Workshop: Learn to Code – Python on ...   Jun 20, 2022   \n",
       "4  Free JavaScript Workshop at Codeup Dallas on 6...   Jun 19, 2022   \n",
       "\n",
       "                                             content  \n",
       "0  Have you been considering a career in Cloud Ad...  \n",
       "1  If you are interested in embarking on a career...  \n",
       "2  Join us for our live in-person JavaScript cras...  \n",
       "3  According to LinkedIn, the “#1 Most Promising ...  \n",
       "4  Event Info: \\nLocation – Codeup Dallas\\nTime –...  "
      ]
     },
     "execution_count": 12,
     "metadata": {},
     "output_type": "execute_result"
    }
   ],
   "source": [
    "articles = get_blog_articles(return_dataframe=True)\n",
    "articles.head()"
   ]
  },
  {
   "cell_type": "code",
   "execution_count": 13,
   "id": "666f46d9",
   "metadata": {},
   "outputs": [],
   "source": [
    "def get_category_news_cards(category):\n",
    "    \"\"\" Returns list with each item the soup for a different news card from the category page\"\"\"\n",
    "    \n",
    "    # Note that having the category name capitalized sends you to a different website than lowercase!!\n",
    "    base_url = r'https://inshorts.com/en/read'\n",
    "    url = base_url +r'/'+category.lower()\n",
    "    \n",
    "    headers = {'User-Agent': 'Codeup Data Science'} # Some websites don't accept the pyhon-requests default user-agent\n",
    "    response = get(url, headers=headers)\n",
    "\n",
    "    # Make a soup variable holding the response content\n",
    "    cat_soup = BeautifulSoup(response.content, 'html.parser')\n",
    "    \n",
    "    return cat_soup.select('div.news-card.z-depth-1')\n",
    "\n",
    "def get_news_details(news_card, category):\n",
    "    \"\"\" Returns dictionary with information about the article \n",
    "    news_card: the soup for an individual news card within a category card stack\n",
    "    category: this is passed to this function so it can be inputted to the dictionary\"\"\"\n",
    "    \n",
    "    output={}\n",
    "    output['headline'] = news_card.select('div.news-card-title')[0].find(\"span\").text\n",
    "    output['author'] =  news_card.select('div.news-card-author-time')[0].find('span', class_='author').text\n",
    "    output['datetime'] = news_card.select('div.news-card-author-time')[0].find('span', class_='time').attrs['content']\n",
    "    output['category'] = category.lower()\n",
    "    output['content'] = news_card.select('div.news-card-content')[0].find('div').text\n",
    "    \n",
    "    return output\n",
    "    \n",
    "def get_each_news_in_category(category):\n",
    "    \"\"\" Returns list of dictionaries for each article in the category with article information \"\"\"\n",
    "    \n",
    "    list_of_news_cards = get_category_news_cards(category)\n",
    "    print(\"Total News Articles in Category: \",len(list_of_news_cards))\n",
    "    return [get_news_details(news_card, category) for news_card in list_of_news_cards]\n",
    "    \n",
    "def get_news_categories(soup):\n",
    "    \"\"\" Returns list of news categories from the inshorts homepage \"\"\"\n",
    "    \n",
    "    categories = soup.select('ul.category-list')[0].select('li.active-category')[1:]\n",
    "    \n",
    "    return [c.text.lower() for c in categories]\n",
    "\n",
    "def get_news_articles(desired_categories = 'all', update_cache = False):\n",
    "    \"\"\" Returns dictionary of news article information from https://inshorts.com/ .\n",
    "    desired_categories: 'all' by default or a list of categories desired\n",
    "    update_cache: if True gets fresh news\"\"\"\n",
    "    \n",
    "    # Filepath for cache\n",
    "    news_cache_file = 'news.csv'\n",
    "    \n",
    "    if ~update_cache:\n",
    "        if os.path.exists(news_cache_file):\n",
    "            return pd.read_csv('news.csv')\n",
    "        else:\n",
    "            print(\"News cache does not exist, acquiring fresh news...\")\n",
    "    \n",
    "    \n",
    "    url = 'https://inshorts.com/en/read'\n",
    "    headers = {'User-Agent': 'Codeup Data Science'} # Some websites don't accept the python-requests default user-agent\n",
    "    response = get(url, headers=headers)\n",
    "\n",
    "\n",
    "    # Make a soup variable holding the response content\n",
    "    soup = BeautifulSoup(response.content, 'html.parser')\n",
    "    \n",
    "    categories = get_news_categories(soup)\n",
    "    \n",
    "    # Initialize news list\n",
    "    news = []\n",
    "    \n",
    "    # Check if we want articles from all categories or just specific ones\n",
    "    if desired_categories == 'all':\n",
    "        \n",
    "        # Iterate through each category, scraping each article, save details to news list\n",
    "        for cat in categories:\n",
    "            \n",
    "            print(\"Scraping category: \", cat)\n",
    "            news+=get_each_news_in_category(cat)\n",
    "    else:\n",
    "        # For the case when we only want to scrape articles in particular categories\n",
    "        for cat in desired_categories:\n",
    "            # Checks if the desired category exists. If it doesn't moves on to the next category desired\n",
    "            if cat.lower() not in categories:\n",
    "                print(cat,\"does not exist at site, skipping this category\")\n",
    "                continue\n",
    "            print(\"Scraping category: \", cat)\n",
    "            news+=get_each_news_in_category(cat)\n",
    "    \n",
    "    # Write results to cache\n",
    "    pd.DataFrame(news).to_csv(news_cache_file, index = None)\n",
    "       \n",
    "    return news"
   ]
  },
  {
   "cell_type": "markdown",
   "id": "c7d6151b",
   "metadata": {},
   "source": [
    "## 2.) News Articles\n",
    "\n",
    "We will now be scraping text data from inshorts, a website that provides a brief overview of many different topics.\n",
    "\n",
    "Write a function that scrapes the news articles for the following topics:\n",
    "\n",
    "- Business\n",
    "- Sports\n",
    "- Technology\n",
    "- Entertainment\n",
    "\n",
    "The end product of this should be a function named get_news_articles that returns a list of dictionaries, where each dictionary has this shape:\n",
    "\n",
    "\n",
    "{\n",
    "    'title': 'The article title',\n",
    "    'content': 'The article content',\n",
    "    'category': 'business' # for example\n",
    "}\n",
    "\n",
    "Hints:\n",
    "\n",
    "a. Start by inspecting the website in your browser. Figure out which elements will be useful.\n",
    "b. Start by creating a function that handles a single article and produces a dictionary like the one above.\n",
    "c. Next create a function that will find all the articles on a single page and call the function you created in the last step for every article on the page.\n",
    "d. Now create a function that will use the previous two functions to scrape the articles from all the pages that you need, and do any additional processing that needs to be done.\n",
    "\n"
   ]
  },
  {
   "cell_type": "code",
   "execution_count": 14,
   "id": "52fba6ba",
   "metadata": {},
   "outputs": [],
   "source": [
    "news = get_news_articles(desired_categories=['sports','Business','Technology','Entertainment'], update_cache=False)\n"
   ]
  },
  {
   "cell_type": "code",
   "execution_count": 15,
   "id": "30c645f9",
   "metadata": {},
   "outputs": [
    {
     "data": {
      "text/html": [
       "<div>\n",
       "<style scoped>\n",
       "    .dataframe tbody tr th:only-of-type {\n",
       "        vertical-align: middle;\n",
       "    }\n",
       "\n",
       "    .dataframe tbody tr th {\n",
       "        vertical-align: top;\n",
       "    }\n",
       "\n",
       "    .dataframe thead th {\n",
       "        text-align: right;\n",
       "    }\n",
       "</style>\n",
       "<table border=\"1\" class=\"dataframe\">\n",
       "  <thead>\n",
       "    <tr style=\"text-align: right;\">\n",
       "      <th></th>\n",
       "      <th>title</th>\n",
       "      <th>author</th>\n",
       "      <th>datetime</th>\n",
       "      <th>category</th>\n",
       "      <th>original</th>\n",
       "    </tr>\n",
       "  </thead>\n",
       "  <tbody>\n",
       "    <tr>\n",
       "      <th>0</th>\n",
       "      <td>Rupee closes at an all-time low of 79.98 again...</td>\n",
       "      <td>Ridham Gambhir</td>\n",
       "      <td>2022-07-18T11:00:17.000Z</td>\n",
       "      <td>business</td>\n",
       "      <td>The rupee on Monday hit a fresh record low as ...</td>\n",
       "    </tr>\n",
       "    <tr>\n",
       "      <th>1</th>\n",
       "      <td>Rupee hits record low of 79.97 against US dollar</td>\n",
       "      <td>Ridham Gambhir</td>\n",
       "      <td>2022-07-18T10:00:15.000Z</td>\n",
       "      <td>business</td>\n",
       "      <td>The rupee hit a record low of 79.97 against th...</td>\n",
       "    </tr>\n",
       "    <tr>\n",
       "      <th>2</th>\n",
       "      <td>BCCI had ₹40 cr in bank when I joined &amp; ₹47,68...</td>\n",
       "      <td>Ridham Gambhir</td>\n",
       "      <td>2022-07-17T06:35:36.000Z</td>\n",
       "      <td>business</td>\n",
       "      <td>In an Instagram post, Lalit Modi asserted that...</td>\n",
       "    </tr>\n",
       "    <tr>\n",
       "      <th>3</th>\n",
       "      <td>A fighter to the core: Mahindra praises PV Sin...</td>\n",
       "      <td>Ridham Gambhir</td>\n",
       "      <td>2022-07-17T08:17:31.000Z</td>\n",
       "      <td>business</td>\n",
       "      <td>Businessman Anand Mahindra took to Twitter to ...</td>\n",
       "    </tr>\n",
       "    <tr>\n",
       "      <th>4</th>\n",
       "      <td>RBI is of the view that cryptocurrencies shoul...</td>\n",
       "      <td>Hiral Goyal</td>\n",
       "      <td>2022-07-18T07:55:13.000Z</td>\n",
       "      <td>business</td>\n",
       "      <td>The Reserve Bank of India (RBI) has recommende...</td>\n",
       "    </tr>\n",
       "    <tr>\n",
       "      <th>...</th>\n",
       "      <td>...</td>\n",
       "      <td>...</td>\n",
       "      <td>...</td>\n",
       "      <td>...</td>\n",
       "      <td>...</td>\n",
       "    </tr>\n",
       "    <tr>\n",
       "      <th>95</th>\n",
       "      <td>Grace &amp; style of Dhanush is something to behol...</td>\n",
       "      <td>Amartya Sharma</td>\n",
       "      <td>2022-07-18T10:27:56.000Z</td>\n",
       "      <td>entertainment</td>\n",
       "      <td>Regé-Jean Page, speaking about Dhanush in 'The...</td>\n",
       "    </tr>\n",
       "    <tr>\n",
       "      <th>96</th>\n",
       "      <td>Want to show people I'm more than simple, inno...</td>\n",
       "      <td>Amartya Sharma</td>\n",
       "      <td>2022-07-18T11:08:29.000Z</td>\n",
       "      <td>entertainment</td>\n",
       "      <td>Actress Janhvi Kapoor has said 'Good Luck Jerr...</td>\n",
       "    </tr>\n",
       "    <tr>\n",
       "      <th>97</th>\n",
       "      <td>Love you SRK for rehearsing with me, not throw...</td>\n",
       "      <td>Ria Kapoor</td>\n",
       "      <td>2022-07-18T11:20:55.000Z</td>\n",
       "      <td>entertainment</td>\n",
       "      <td>Actress Kashmera Shah took to Instagram to sha...</td>\n",
       "    </tr>\n",
       "    <tr>\n",
       "      <th>98</th>\n",
       "      <td>Didn't realise we were making memories: Juhi o...</td>\n",
       "      <td>Kriti Kambiri</td>\n",
       "      <td>2022-07-18T14:25:06.000Z</td>\n",
       "      <td>entertainment</td>\n",
       "      <td>Actress Juhi Chawla shared a video montage of ...</td>\n",
       "    </tr>\n",
       "    <tr>\n",
       "      <th>99</th>\n",
       "      <td>Shooting of Shanaya's 'Bedhadak' to commence n...</td>\n",
       "      <td>Kriti Kambiri</td>\n",
       "      <td>2022-07-18T15:08:19.000Z</td>\n",
       "      <td>entertainment</td>\n",
       "      <td>Filmmaker Karan Johar took to Instagram to ann...</td>\n",
       "    </tr>\n",
       "  </tbody>\n",
       "</table>\n",
       "<p>100 rows × 5 columns</p>\n",
       "</div>"
      ],
      "text/plain": [
       "                                                title          author  \\\n",
       "0   Rupee closes at an all-time low of 79.98 again...  Ridham Gambhir   \n",
       "1    Rupee hits record low of 79.97 against US dollar  Ridham Gambhir   \n",
       "2   BCCI had ₹40 cr in bank when I joined & ₹47,68...  Ridham Gambhir   \n",
       "3   A fighter to the core: Mahindra praises PV Sin...  Ridham Gambhir   \n",
       "4   RBI is of the view that cryptocurrencies shoul...     Hiral Goyal   \n",
       "..                                                ...             ...   \n",
       "95  Grace & style of Dhanush is something to behol...  Amartya Sharma   \n",
       "96  Want to show people I'm more than simple, inno...  Amartya Sharma   \n",
       "97  Love you SRK for rehearsing with me, not throw...      Ria Kapoor   \n",
       "98  Didn't realise we were making memories: Juhi o...   Kriti Kambiri   \n",
       "99  Shooting of Shanaya's 'Bedhadak' to commence n...   Kriti Kambiri   \n",
       "\n",
       "                    datetime       category  \\\n",
       "0   2022-07-18T11:00:17.000Z       business   \n",
       "1   2022-07-18T10:00:15.000Z       business   \n",
       "2   2022-07-17T06:35:36.000Z       business   \n",
       "3   2022-07-17T08:17:31.000Z       business   \n",
       "4   2022-07-18T07:55:13.000Z       business   \n",
       "..                       ...            ...   \n",
       "95  2022-07-18T10:27:56.000Z  entertainment   \n",
       "96  2022-07-18T11:08:29.000Z  entertainment   \n",
       "97  2022-07-18T11:20:55.000Z  entertainment   \n",
       "98  2022-07-18T14:25:06.000Z  entertainment   \n",
       "99  2022-07-18T15:08:19.000Z  entertainment   \n",
       "\n",
       "                                             original  \n",
       "0   The rupee on Monday hit a fresh record low as ...  \n",
       "1   The rupee hit a record low of 79.97 against th...  \n",
       "2   In an Instagram post, Lalit Modi asserted that...  \n",
       "3   Businessman Anand Mahindra took to Twitter to ...  \n",
       "4   The Reserve Bank of India (RBI) has recommende...  \n",
       "..                                                ...  \n",
       "95  Regé-Jean Page, speaking about Dhanush in 'The...  \n",
       "96  Actress Janhvi Kapoor has said 'Good Luck Jerr...  \n",
       "97  Actress Kashmera Shah took to Instagram to sha...  \n",
       "98  Actress Juhi Chawla shared a video montage of ...  \n",
       "99  Filmmaker Karan Johar took to Instagram to ann...  \n",
       "\n",
       "[100 rows x 5 columns]"
      ]
     },
     "execution_count": 15,
     "metadata": {},
     "output_type": "execute_result"
    }
   ],
   "source": [
    "news"
   ]
  },
  {
   "cell_type": "markdown",
   "id": "1de8f608",
   "metadata": {},
   "source": [
    "\n",
    "## 3.) Bonus: cache the data\n",
    "\n",
    "Write your code such that the acquired data is saved locally in some form or fashion. Your functions that retrieve the data should prefer to read the local data instead of having to make all the requests everytime the function is called. Include a boolean flag in the functions to allow the data to be acquired \"fresh\" from the actual sources (re-writing your local cache)."
   ]
  }
 ],
 "metadata": {
  "kernelspec": {
   "display_name": "Python 3 (ipykernel)",
   "language": "python",
   "name": "python3"
  },
  "language_info": {
   "codemirror_mode": {
    "name": "ipython",
    "version": 3
   },
   "file_extension": ".py",
   "mimetype": "text/x-python",
   "name": "python",
   "nbconvert_exporter": "python",
   "pygments_lexer": "ipython3",
   "version": "3.9.7"
  }
 },
 "nbformat": 4,
 "nbformat_minor": 5
}
